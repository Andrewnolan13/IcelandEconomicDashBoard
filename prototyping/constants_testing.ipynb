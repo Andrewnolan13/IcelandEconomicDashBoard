{
 "cells": [
  {
   "cell_type": "code",
   "execution_count": 1,
   "id": "957c9a79",
   "metadata": {},
   "outputs": [],
   "source": [
    "import sys\n",
    "import os\n",
    "import re\n",
    "\n",
    "removePattern = re.compile(r'\\\\\\\\[a-z\\.]{10,25}\\\\[a-z]{8,16}') ## network drive with same folder structure on path. Removing it without exposing what it is lol\n",
    "sys.path = list(filter(lambda x: re.match(removePattern, x) is None, sys.path))\n",
    "\n",
    "sys.path.append('..')\n",
    "\n",
    "from src import constants"
   ]
  },
  {
   "cell_type": "code",
   "execution_count": 4,
   "id": "d4ec852a",
   "metadata": {},
   "outputs": [
    {
     "data": {
      "text/plain": [
       "['APINode',\n",
       " 'ASSETS',\n",
       " 'DATA',\n",
       " 'DB',\n",
       " 'ENDPOINTS',\n",
       " 'Enum',\n",
       " 'PATH',\n",
       " 'RateLimit',\n",
       " 'SOURCE',\n",
       " 'abspath',\n",
       " 'dirname',\n",
       " 'f',\n",
       " 'join',\n",
       " 'json',\n",
       " 'pattern',\n",
       " 're',\n",
       " 'toTypable',\n",
       " 'tree']"
      ]
     },
     "execution_count": 4,
     "metadata": {},
     "output_type": "execute_result"
    }
   ],
   "source": [
    "list(filter(lambda x: not x.startswith('_'), dir(constants)))"
   ]
  },
  {
   "cell_type": "code",
   "execution_count": 18,
   "id": "3d7b528d",
   "metadata": {},
   "outputs": [
    {
     "data": {
      "text/plain": [
       "<Response [200]>"
      ]
     },
     "execution_count": 18,
     "metadata": {},
     "output_type": "execute_result"
    }
   ],
   "source": [
    "url = constants.ENDPOINTS.Atvinnuvegir.Enterprises.Labour_cost.Labour_cost_index.Labour_Cost_by_economic_activity__NACE_rev__2__2008_to_2020\n",
    "import requests\n",
    "resp = requests.get(url)\n",
    "resp"
   ]
  },
  {
   "cell_type": "code",
   "execution_count": 20,
   "id": "50971da2",
   "metadata": {},
   "outputs": [
    {
     "data": {
      "text/plain": [
       "{'title': 'Labour Cost by economic activity (NACE rev. 2) 2008-2020',\n",
       " 'variables': [{'code': 'Ár',\n",
       "   'text': 'Year',\n",
       "   'values': ['2008', '2012', '2016', '2020'],\n",
       "   'valueTexts': ['2008', '2012', '2016', '2020']},\n",
       "  {'code': 'Atvinnugrein',\n",
       "   'text': 'Economic activity',\n",
       "   'values': ['0',\n",
       "    '1',\n",
       "    '2',\n",
       "    '3',\n",
       "    '4',\n",
       "    '5',\n",
       "    '6',\n",
       "    '7',\n",
       "    '8',\n",
       "    '9',\n",
       "    '10',\n",
       "    '11',\n",
       "    '12',\n",
       "    '13',\n",
       "    '14',\n",
       "    '15',\n",
       "    '16',\n",
       "    '17',\n",
       "    '18'],\n",
       "   'valueTexts': ['Total (B_S)',\n",
       "    'Mining and quarrying (B)',\n",
       "    'Manufacturing (C)',\n",
       "    'Electricity,  gas, steam and air conditioning supply (D)',\n",
       "    'Water supply; sewerage, waste management and remediation activities (E)',\n",
       "    'Construction (F)',\n",
       "    'Wholesale and retail trade; repair of motor vehicles and motorcycles (G)',\n",
       "    'Transportation and storage (H)',\n",
       "    'Accommodation and food service activities (I)',\n",
       "    'Information and communication (J)',\n",
       "    'Financial and insurance activities (K)',\n",
       "    'Real estate activities (L)',\n",
       "    'Professional, scientific and technical activities (M)',\n",
       "    'Administrative and support service activities (N)',\n",
       "    'Public administration and defence; compulsory social security (O)',\n",
       "    'Education (P)',\n",
       "    'Human health and social work activities (Q)',\n",
       "    'Arts, entertainment and recreation (R)',\n",
       "    'Other service activities (S)']},\n",
       "  {'code': 'Launakostnaður',\n",
       "   'text': 'Labour cost',\n",
       "   'values': ['0',\n",
       "    '1',\n",
       "    '2',\n",
       "    '3',\n",
       "    '4',\n",
       "    '5',\n",
       "    '6',\n",
       "    '7',\n",
       "    '8',\n",
       "    '9',\n",
       "    '10',\n",
       "    '11',\n",
       "    '12',\n",
       "    '13',\n",
       "    '14',\n",
       "    '15',\n",
       "    '16',\n",
       "    '17'],\n",
       "   'valueTexts': ['1 Wages and Salaries (%)',\n",
       "    '1.1 Direct remuneration paid in each pay period (%)',\n",
       "    '1.2 Direct remuneration not paid in each pay period (%)',\n",
       "    '1.3 Payments in kind (%)',\n",
       "    '1.4 Payments for days not worked (%)',\n",
       "    \"2 Employers' social contributions (%)\",\n",
       "    '2.1 Statutory social-security contributions (%)',\n",
       "    '2.2 Pension fund social-security contributions (%)',\n",
       "    '2.3 Collectively agreed and other contributions (%)',\n",
       "    \"2.4 Employers' imputed social contributions (%)\",\n",
       "    '3 Labour cost (3=1+2) (%)',\n",
       "    'Labour costs (million ISK)',\n",
       "    'Paid hourly labour cost (ISK)',\n",
       "    'Actual hourly labour cost (ISK)',\n",
       "    'Taxes (million ISK)',\n",
       "    'Total labour costs (million ISK)',\n",
       "    'Paid hourly total labour cost (ISK)',\n",
       "    'Actual hourly total labour cost (ISK)']}]}"
      ]
     },
     "execution_count": 20,
     "metadata": {},
     "output_type": "execute_result"
    }
   ],
   "source": [
    "d = resp.json()\n",
    "d"
   ]
  },
  {
   "cell_type": "code",
   "execution_count": 23,
   "id": "11a2e024",
   "metadata": {},
   "outputs": [
    {
     "data": {
      "text/plain": [
       "'Labour Cost by economic activity (NACE rev. 2) 2008-2020'"
      ]
     },
     "execution_count": 23,
     "metadata": {},
     "output_type": "execute_result"
    }
   ],
   "source": [
    "d['title']"
   ]
  },
  {
   "cell_type": "code",
   "execution_count": 27,
   "id": "b47fb13c",
   "metadata": {},
   "outputs": [
    {
     "data": {
      "text/plain": [
       "{'code': 'Ár',\n",
       " 'text': 'Year',\n",
       " 'values': ['2008', '2012', '2016', '2020'],\n",
       " 'valueTexts': ['2008', '2012', '2016', '2020']}"
      ]
     },
     "execution_count": 27,
     "metadata": {},
     "output_type": "execute_result"
    }
   ],
   "source": [
    "d['variables'][0]"
   ]
  },
  {
   "cell_type": "code",
   "execution_count": 28,
   "id": "41cb828a",
   "metadata": {},
   "outputs": [
    {
     "data": {
      "text/plain": [
       "{'code': 'Atvinnugrein',\n",
       " 'text': 'Economic activity',\n",
       " 'values': ['0',\n",
       "  '1',\n",
       "  '2',\n",
       "  '3',\n",
       "  '4',\n",
       "  '5',\n",
       "  '6',\n",
       "  '7',\n",
       "  '8',\n",
       "  '9',\n",
       "  '10',\n",
       "  '11',\n",
       "  '12',\n",
       "  '13',\n",
       "  '14',\n",
       "  '15',\n",
       "  '16',\n",
       "  '17',\n",
       "  '18'],\n",
       " 'valueTexts': ['Total (B_S)',\n",
       "  'Mining and quarrying (B)',\n",
       "  'Manufacturing (C)',\n",
       "  'Electricity,  gas, steam and air conditioning supply (D)',\n",
       "  'Water supply; sewerage, waste management and remediation activities (E)',\n",
       "  'Construction (F)',\n",
       "  'Wholesale and retail trade; repair of motor vehicles and motorcycles (G)',\n",
       "  'Transportation and storage (H)',\n",
       "  'Accommodation and food service activities (I)',\n",
       "  'Information and communication (J)',\n",
       "  'Financial and insurance activities (K)',\n",
       "  'Real estate activities (L)',\n",
       "  'Professional, scientific and technical activities (M)',\n",
       "  'Administrative and support service activities (N)',\n",
       "  'Public administration and defence; compulsory social security (O)',\n",
       "  'Education (P)',\n",
       "  'Human health and social work activities (Q)',\n",
       "  'Arts, entertainment and recreation (R)',\n",
       "  'Other service activities (S)']}"
      ]
     },
     "execution_count": 28,
     "metadata": {},
     "output_type": "execute_result"
    }
   ],
   "source": [
    "d['variables'][1]"
   ]
  },
  {
   "cell_type": "code",
   "execution_count": null,
   "id": "5658ece9",
   "metadata": {},
   "outputs": [],
   "source": []
  }
 ],
 "metadata": {
  "kernelspec": {
   "display_name": "Python 3",
   "language": "python",
   "name": "python3"
  },
  "language_info": {
   "codemirror_mode": {
    "name": "ipython",
    "version": 3
   },
   "file_extension": ".py",
   "mimetype": "text/x-python",
   "name": "python",
   "nbconvert_exporter": "python",
   "pygments_lexer": "ipython3",
   "version": "3.12.1"
  }
 },
 "nbformat": 4,
 "nbformat_minor": 5
}

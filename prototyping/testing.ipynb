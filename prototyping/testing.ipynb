{
 "cells": [
  {
   "cell_type": "code",
   "execution_count": 3,
   "id": "0956f248",
   "metadata": {},
   "outputs": [],
   "source": [
    "import sys\n",
    "import os\n",
    "import re\n",
    "\n",
    "removePattern = re.compile(r'\\\\\\\\[a-z\\.]{10,25}\\\\[a-z]{8,16}') ## network drive with same folder structure on path. Removing it without exposing what it is lol\n",
    "sys.path = list(filter(lambda x: re.match(removePattern, x) is None, sys.path))\n",
    "\n",
    "sys.path.append('..')\n",
    "\n",
    "from src import constants\n",
    "from src import api\n"
   ]
  },
  {
   "cell_type": "code",
   "execution_count": 4,
   "id": "97d85025",
   "metadata": {},
   "outputs": [],
   "source": [
    "myapi = api.StatisticsIcelandAPI()"
   ]
  },
  {
   "cell_type": "code",
   "execution_count": 18,
   "id": "8a1ad78d",
   "metadata": {},
   "outputs": [],
   "source": [
    "myapi.add_endpoints([\n",
    "    constants.ENDPOINTS.Atvinnuvegir.Enterprises.Labour_cost.Labour_cost_index.Labour_Cost_by_economic_activity__NACE_rev__2__2008_to_2020,\n",
    "    constants.ENDPOINTS.Efnahagur,\n",
    "    constants.ENDPOINTS.Efnahagur.Public_finance.Health.Private_health_expenditure_1998_to_2024,\n",
    "])  \n",
    "\n",
    "res = myapi.request()"
   ]
  },
  {
   "cell_type": "code",
   "execution_count": 28,
   "id": "74617b08",
   "metadata": {},
   "outputs": [
    {
     "data": {
      "text/plain": [
       "[{'code': 'Skipting',\n",
       "  'text': 'Breakdown',\n",
       "  'values': ['0', '1', '2', '3'],\n",
       "  'valueTexts': ['Million ISK',\n",
       "   'Percentage of gross domestic product',\n",
       "   'Percentage breakdown',\n",
       "   'Per capita in thousand ISK at 2024 prices']},\n",
       " {'code': 'Heilbrigðisútgjöld',\n",
       "  'text': 'Expenditure',\n",
       "  'values': ['0', '1', '2', '3', '4', '5', '6', '7', '8', '9'],\n",
       "  'valueTexts': ['1 Medical products, applicances and equip.',\n",
       "   '11 Pharmaceutical products',\n",
       "   '12 Other medical products',\n",
       "   '2 Outpatient services',\n",
       "   '21 General  and special medical services',\n",
       "   '23 Dental services',\n",
       "   '24 Paramedical services',\n",
       "   '3 Hospital services',\n",
       "   '5 Health n.e.c.',\n",
       "   'Total private health expenditure']},\n",
       " {'code': 'Ár',\n",
       "  'text': 'Year',\n",
       "  'values': ['1998',\n",
       "   '1999',\n",
       "   '2000',\n",
       "   '2001',\n",
       "   '2002',\n",
       "   '2003',\n",
       "   '2004',\n",
       "   '2005',\n",
       "   '2006',\n",
       "   '2007',\n",
       "   '2008',\n",
       "   '2009',\n",
       "   '2010',\n",
       "   '2011',\n",
       "   '2012',\n",
       "   '2013',\n",
       "   '2014',\n",
       "   '2015',\n",
       "   '2016',\n",
       "   '2017',\n",
       "   '2018',\n",
       "   '2019',\n",
       "   '2020',\n",
       "   '2021',\n",
       "   '2022',\n",
       "   '2023',\n",
       "   '2024'],\n",
       "  'valueTexts': ['1998',\n",
       "   '1999',\n",
       "   '2000',\n",
       "   '2001',\n",
       "   '2002',\n",
       "   '2003',\n",
       "   '2004',\n",
       "   '2005',\n",
       "   '2006',\n",
       "   '2007',\n",
       "   '2008',\n",
       "   '2009',\n",
       "   '2010',\n",
       "   '2011',\n",
       "   '2012',\n",
       "   '2013',\n",
       "   '2014',\n",
       "   '2015',\n",
       "   '2016',\n",
       "   '2017',\n",
       "   '2018',\n",
       "   '2019',\n",
       "   '2020',\n",
       "   '2021',\n",
       "   '2022',\n",
       "   '2023',\n",
       "   '2024'],\n",
       "  'time': True}]"
      ]
     },
     "execution_count": 28,
     "metadata": {},
     "output_type": "execute_result"
    }
   ],
   "source": [
    "(\n",
    "    res['Private health expenditure 1998-2024']\n",
    "    .json()\n",
    "    ['variables']\n",
    "    \n",
    ")"
   ]
  },
  {
   "cell_type": "code",
   "execution_count": 29,
   "id": "69cf12ed",
   "metadata": {},
   "outputs": [
    {
     "data": {
      "text/plain": [
       "<APINode https://px.hagstofa.is/pxen/api/v1/en/Efnahagur/fjaropinber/fjarmal_heilbr/THJ05521.px>"
      ]
     },
     "execution_count": 29,
     "metadata": {},
     "output_type": "execute_result"
    }
   ],
   "source": [
    "constants.ENDPOINTS.Efnahagur.Public_finance.Health.Private_health_expenditure_1998_to_2024"
   ]
  },
  {
   "cell_type": "code",
   "execution_count": 9,
   "id": "fa54a449",
   "metadata": {},
   "outputs": [
    {
     "data": {
      "text/plain": [
       "[{'id': 'fjaropinber', 'type': 'l', 'text': 'Public finance'},\n",
       " {'id': 'thjodhagsreikningar', 'type': 'l', 'text': 'National accounts'},\n",
       " {'id': 'thjodhagsspa', 'type': 'l', 'text': 'Economic forecast'},\n",
       " {'id': 'utanrikisverslun', 'type': 'l', 'text': 'External trade'},\n",
       " {'id': 'vinnumagnogframleidni',\n",
       "  'type': 'l',\n",
       "  'text': 'Employment and labour productivity'},\n",
       " {'id': 'visitolur', 'type': 'l', 'text': 'Prices and consumption'}]"
      ]
     },
     "execution_count": 9,
     "metadata": {},
     "output_type": "execute_result"
    }
   ],
   "source": [
    "res['Efnahagur'].json()"
   ]
  },
  {
   "cell_type": "code",
   "execution_count": 11,
   "id": "3d750f91",
   "metadata": {},
   "outputs": [
    {
     "data": {
      "text/plain": [
       "{'title': 'Labour Cost by economic activity (NACE rev. 2) 2008-2020',\n",
       " 'variables': [{'code': 'Ár',\n",
       "   'text': 'Year',\n",
       "   'values': ['2008', '2012', '2016', '2020'],\n",
       "   'valueTexts': ['2008', '2012', '2016', '2020']},\n",
       "  {'code': 'Atvinnugrein',\n",
       "   'text': 'Economic activity',\n",
       "   'values': ['0',\n",
       "    '1',\n",
       "    '2',\n",
       "    '3',\n",
       "    '4',\n",
       "    '5',\n",
       "    '6',\n",
       "    '7',\n",
       "    '8',\n",
       "    '9',\n",
       "    '10',\n",
       "    '11',\n",
       "    '12',\n",
       "    '13',\n",
       "    '14',\n",
       "    '15',\n",
       "    '16',\n",
       "    '17',\n",
       "    '18'],\n",
       "   'valueTexts': ['Total (B_S)',\n",
       "    'Mining and quarrying (B)',\n",
       "    'Manufacturing (C)',\n",
       "    'Electricity,  gas, steam and air conditioning supply (D)',\n",
       "    'Water supply; sewerage, waste management and remediation activities (E)',\n",
       "    'Construction (F)',\n",
       "    'Wholesale and retail trade; repair of motor vehicles and motorcycles (G)',\n",
       "    'Transportation and storage (H)',\n",
       "    'Accommodation and food service activities (I)',\n",
       "    'Information and communication (J)',\n",
       "    'Financial and insurance activities (K)',\n",
       "    'Real estate activities (L)',\n",
       "    'Professional, scientific and technical activities (M)',\n",
       "    'Administrative and support service activities (N)',\n",
       "    'Public administration and defence; compulsory social security (O)',\n",
       "    'Education (P)',\n",
       "    'Human health and social work activities (Q)',\n",
       "    'Arts, entertainment and recreation (R)',\n",
       "    'Other service activities (S)']},\n",
       "  {'code': 'Launakostnaður',\n",
       "   'text': 'Labour cost',\n",
       "   'values': ['0',\n",
       "    '1',\n",
       "    '2',\n",
       "    '3',\n",
       "    '4',\n",
       "    '5',\n",
       "    '6',\n",
       "    '7',\n",
       "    '8',\n",
       "    '9',\n",
       "    '10',\n",
       "    '11',\n",
       "    '12',\n",
       "    '13',\n",
       "    '14',\n",
       "    '15',\n",
       "    '16',\n",
       "    '17'],\n",
       "   'valueTexts': ['1 Wages and Salaries (%)',\n",
       "    '1.1 Direct remuneration paid in each pay period (%)',\n",
       "    '1.2 Direct remuneration not paid in each pay period (%)',\n",
       "    '1.3 Payments in kind (%)',\n",
       "    '1.4 Payments for days not worked (%)',\n",
       "    \"2 Employers' social contributions (%)\",\n",
       "    '2.1 Statutory social-security contributions (%)',\n",
       "    '2.2 Pension fund social-security contributions (%)',\n",
       "    '2.3 Collectively agreed and other contributions (%)',\n",
       "    \"2.4 Employers' imputed social contributions (%)\",\n",
       "    '3 Labour cost (3=1+2) (%)',\n",
       "    'Labour costs (million ISK)',\n",
       "    'Paid hourly labour cost (ISK)',\n",
       "    'Actual hourly labour cost (ISK)',\n",
       "    'Taxes (million ISK)',\n",
       "    'Total labour costs (million ISK)',\n",
       "    'Paid hourly total labour cost (ISK)',\n",
       "    'Actual hourly total labour cost (ISK)']}]}"
      ]
     },
     "execution_count": 11,
     "metadata": {},
     "output_type": "execute_result"
    }
   ],
   "source": [
    "res['Labour Cost by economic activity (NACE rev. 2) 2008-2020'].json()"
   ]
  }
 ],
 "metadata": {
  "kernelspec": {
   "display_name": "Python 3",
   "language": "python",
   "name": "python3"
  },
  "language_info": {
   "codemirror_mode": {
    "name": "ipython",
    "version": 3
   },
   "file_extension": ".py",
   "mimetype": "text/x-python",
   "name": "python",
   "nbconvert_exporter": "python",
   "pygments_lexer": "ipython3",
   "version": "3.12.1"
  }
 },
 "nbformat": 4,
 "nbformat_minor": 5
}

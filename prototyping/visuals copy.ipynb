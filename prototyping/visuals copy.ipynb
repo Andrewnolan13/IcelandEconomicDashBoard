{
 "cells": [
  {
   "cell_type": "code",
   "execution_count": 1,
   "metadata": {},
   "outputs": [
    {
     "name": "stdout",
     "output_type": "stream",
     "text": [
      "MainProcess\n"
     ]
    }
   ],
   "source": [
    "import os, json\n",
    "import sys\n",
    "import pandas as pd\n",
    "import requests\n",
    "from io import StringIO\n",
    "import plotly\n",
    "import plotly.express as px\n",
    "import plotly.graph_objects as go\n",
    "import plotly.io as pio\n",
    "\n",
    "pd.options.plotting.backend = 'plotly'\n",
    "\n",
    "\n",
    "sys.path.append('..')\n",
    "\n",
    "import src"
   ]
  },
  {
   "cell_type": "code",
   "execution_count": null,
   "metadata": {},
   "outputs": [],
   "source": [
    "import sqlite3\n",
    "conn = sqlite3.connect(src.constants.SOURCE.DATA.DB.str)\n",
    "Employment = pd.read_sql_query('SELECT * FROM Employment', conn)\n",
    "GDP = pd.read_sql_query('SELECT * FROM GDP', conn)"
   ]
  },
  {
   "cell_type": "code",
   "execution_count": null,
   "metadata": {},
   "outputs": [],
   "source": []
  },
  {
   "cell_type": "code",
   "execution_count": 11,
   "metadata": {},
   "outputs": [
    {
     "data": {
      "application/vnd.plotly.v1+json": {
       "config": {
        "plotlyServerURL": "https://plot.ly"
       },
       "data": [
        {
         "hovertemplate": "Year=%{x}<br>General savings deposits Nominal interest, % per year=%{y}<extra></extra>",
         "legendgroup": "",
         "line": {
          "color": "#636efa",
          "dash": "solid"
         },
         "marker": {
          "symbol": "circle"
         },
         "mode": "lines+markers",
         "name": "",
         "orientation": "v",
         "showlegend": false,
         "type": "scatter",
         "x": [
          1960,
          1961,
          1962,
          1963,
          1964,
          1965,
          1966,
          1967,
          1968,
          1969,
          1970,
          1971,
          1972,
          1973,
          1974,
          1975,
          1976,
          1977,
          1978,
          1979,
          1980,
          1981,
          1982,
          1983,
          1984,
          1985,
          1986,
          1987,
          1988,
          1989,
          1990,
          1991,
          1992,
          1993,
          1994,
          1995,
          1996,
          1997,
          1998,
          1999,
          2000,
          2001,
          2002,
          2003,
          2004,
          2005,
          2006,
          2007,
          2008,
          2009,
          2010,
          2011,
          2012,
          2013,
          2014,
          2015,
          2016
         ],
         "xaxis": "x",
         "y": [
          8.7,
          7,
          7,
          7,
          7,
          6,
          7,
          7,
          7,
          7,
          7,
          7,
          7,
          8.3,
          10.8,
          13,
          13,
          13.3,
          18.6,
          22.8,
          33.3,
          34.4,
          35.3,
          38.7,
          16.1,
          22.7,
          11.5,
          13.3,
          16.7,
          11.2,
          3.7,
          4.8,
          1.2,
          0.8,
          0.5,
          0.6,
          0.7,
          0.9,
          0.7,
          0.8,
          1.4,
          1.7,
          0.7,
          0.2,
          0.3,
          1.3,
          3.4,
          4.6,
          6,
          3.5,
          0.5,
          0.1,
          0.7,
          1,
          1,
          0.8,
          1.4
         ],
         "yaxis": "y"
        }
       ],
       "layout": {
        "legend": {
         "tracegroupgap": 0
        },
        "template": {
         "data": {
          "bar": [
           {
            "error_x": {
             "color": "#2a3f5f"
            },
            "error_y": {
             "color": "#2a3f5f"
            },
            "marker": {
             "line": {
              "color": "white",
              "width": 0.5
             },
             "pattern": {
              "fillmode": "overlay",
              "size": 10,
              "solidity": 0.2
             }
            },
            "type": "bar"
           }
          ],
          "barpolar": [
           {
            "marker": {
             "line": {
              "color": "white",
              "width": 0.5
             },
             "pattern": {
              "fillmode": "overlay",
              "size": 10,
              "solidity": 0.2
             }
            },
            "type": "barpolar"
           }
          ],
          "carpet": [
           {
            "aaxis": {
             "endlinecolor": "#2a3f5f",
             "gridcolor": "#C8D4E3",
             "linecolor": "#C8D4E3",
             "minorgridcolor": "#C8D4E3",
             "startlinecolor": "#2a3f5f"
            },
            "baxis": {
             "endlinecolor": "#2a3f5f",
             "gridcolor": "#C8D4E3",
             "linecolor": "#C8D4E3",
             "minorgridcolor": "#C8D4E3",
             "startlinecolor": "#2a3f5f"
            },
            "type": "carpet"
           }
          ],
          "choropleth": [
           {
            "colorbar": {
             "outlinewidth": 0,
             "ticks": ""
            },
            "type": "choropleth"
           }
          ],
          "contour": [
           {
            "colorbar": {
             "outlinewidth": 0,
             "ticks": ""
            },
            "colorscale": [
             [
              0,
              "#0d0887"
             ],
             [
              0.1111111111111111,
              "#46039f"
             ],
             [
              0.2222222222222222,
              "#7201a8"
             ],
             [
              0.3333333333333333,
              "#9c179e"
             ],
             [
              0.4444444444444444,
              "#bd3786"
             ],
             [
              0.5555555555555556,
              "#d8576b"
             ],
             [
              0.6666666666666666,
              "#ed7953"
             ],
             [
              0.7777777777777778,
              "#fb9f3a"
             ],
             [
              0.8888888888888888,
              "#fdca26"
             ],
             [
              1,
              "#f0f921"
             ]
            ],
            "type": "contour"
           }
          ],
          "contourcarpet": [
           {
            "colorbar": {
             "outlinewidth": 0,
             "ticks": ""
            },
            "type": "contourcarpet"
           }
          ],
          "heatmap": [
           {
            "colorbar": {
             "outlinewidth": 0,
             "ticks": ""
            },
            "colorscale": [
             [
              0,
              "#0d0887"
             ],
             [
              0.1111111111111111,
              "#46039f"
             ],
             [
              0.2222222222222222,
              "#7201a8"
             ],
             [
              0.3333333333333333,
              "#9c179e"
             ],
             [
              0.4444444444444444,
              "#bd3786"
             ],
             [
              0.5555555555555556,
              "#d8576b"
             ],
             [
              0.6666666666666666,
              "#ed7953"
             ],
             [
              0.7777777777777778,
              "#fb9f3a"
             ],
             [
              0.8888888888888888,
              "#fdca26"
             ],
             [
              1,
              "#f0f921"
             ]
            ],
            "type": "heatmap"
           }
          ],
          "heatmapgl": [
           {
            "colorbar": {
             "outlinewidth": 0,
             "ticks": ""
            },
            "colorscale": [
             [
              0,
              "#0d0887"
             ],
             [
              0.1111111111111111,
              "#46039f"
             ],
             [
              0.2222222222222222,
              "#7201a8"
             ],
             [
              0.3333333333333333,
              "#9c179e"
             ],
             [
              0.4444444444444444,
              "#bd3786"
             ],
             [
              0.5555555555555556,
              "#d8576b"
             ],
             [
              0.6666666666666666,
              "#ed7953"
             ],
             [
              0.7777777777777778,
              "#fb9f3a"
             ],
             [
              0.8888888888888888,
              "#fdca26"
             ],
             [
              1,
              "#f0f921"
             ]
            ],
            "type": "heatmapgl"
           }
          ],
          "histogram": [
           {
            "marker": {
             "pattern": {
              "fillmode": "overlay",
              "size": 10,
              "solidity": 0.2
             }
            },
            "type": "histogram"
           }
          ],
          "histogram2d": [
           {
            "colorbar": {
             "outlinewidth": 0,
             "ticks": ""
            },
            "colorscale": [
             [
              0,
              "#0d0887"
             ],
             [
              0.1111111111111111,
              "#46039f"
             ],
             [
              0.2222222222222222,
              "#7201a8"
             ],
             [
              0.3333333333333333,
              "#9c179e"
             ],
             [
              0.4444444444444444,
              "#bd3786"
             ],
             [
              0.5555555555555556,
              "#d8576b"
             ],
             [
              0.6666666666666666,
              "#ed7953"
             ],
             [
              0.7777777777777778,
              "#fb9f3a"
             ],
             [
              0.8888888888888888,
              "#fdca26"
             ],
             [
              1,
              "#f0f921"
             ]
            ],
            "type": "histogram2d"
           }
          ],
          "histogram2dcontour": [
           {
            "colorbar": {
             "outlinewidth": 0,
             "ticks": ""
            },
            "colorscale": [
             [
              0,
              "#0d0887"
             ],
             [
              0.1111111111111111,
              "#46039f"
             ],
             [
              0.2222222222222222,
              "#7201a8"
             ],
             [
              0.3333333333333333,
              "#9c179e"
             ],
             [
              0.4444444444444444,
              "#bd3786"
             ],
             [
              0.5555555555555556,
              "#d8576b"
             ],
             [
              0.6666666666666666,
              "#ed7953"
             ],
             [
              0.7777777777777778,
              "#fb9f3a"
             ],
             [
              0.8888888888888888,
              "#fdca26"
             ],
             [
              1,
              "#f0f921"
             ]
            ],
            "type": "histogram2dcontour"
           }
          ],
          "mesh3d": [
           {
            "colorbar": {
             "outlinewidth": 0,
             "ticks": ""
            },
            "type": "mesh3d"
           }
          ],
          "parcoords": [
           {
            "line": {
             "colorbar": {
              "outlinewidth": 0,
              "ticks": ""
             }
            },
            "type": "parcoords"
           }
          ],
          "pie": [
           {
            "automargin": true,
            "type": "pie"
           }
          ],
          "scatter": [
           {
            "fillpattern": {
             "fillmode": "overlay",
             "size": 10,
             "solidity": 0.2
            },
            "type": "scatter"
           }
          ],
          "scatter3d": [
           {
            "line": {
             "colorbar": {
              "outlinewidth": 0,
              "ticks": ""
             }
            },
            "marker": {
             "colorbar": {
              "outlinewidth": 0,
              "ticks": ""
             }
            },
            "type": "scatter3d"
           }
          ],
          "scattercarpet": [
           {
            "marker": {
             "colorbar": {
              "outlinewidth": 0,
              "ticks": ""
             }
            },
            "type": "scattercarpet"
           }
          ],
          "scattergeo": [
           {
            "marker": {
             "colorbar": {
              "outlinewidth": 0,
              "ticks": ""
             }
            },
            "type": "scattergeo"
           }
          ],
          "scattergl": [
           {
            "marker": {
             "colorbar": {
              "outlinewidth": 0,
              "ticks": ""
             }
            },
            "type": "scattergl"
           }
          ],
          "scattermapbox": [
           {
            "marker": {
             "colorbar": {
              "outlinewidth": 0,
              "ticks": ""
             }
            },
            "type": "scattermapbox"
           }
          ],
          "scatterpolar": [
           {
            "marker": {
             "colorbar": {
              "outlinewidth": 0,
              "ticks": ""
             }
            },
            "type": "scatterpolar"
           }
          ],
          "scatterpolargl": [
           {
            "marker": {
             "colorbar": {
              "outlinewidth": 0,
              "ticks": ""
             }
            },
            "type": "scatterpolargl"
           }
          ],
          "scatterternary": [
           {
            "marker": {
             "colorbar": {
              "outlinewidth": 0,
              "ticks": ""
             }
            },
            "type": "scatterternary"
           }
          ],
          "surface": [
           {
            "colorbar": {
             "outlinewidth": 0,
             "ticks": ""
            },
            "colorscale": [
             [
              0,
              "#0d0887"
             ],
             [
              0.1111111111111111,
              "#46039f"
             ],
             [
              0.2222222222222222,
              "#7201a8"
             ],
             [
              0.3333333333333333,
              "#9c179e"
             ],
             [
              0.4444444444444444,
              "#bd3786"
             ],
             [
              0.5555555555555556,
              "#d8576b"
             ],
             [
              0.6666666666666666,
              "#ed7953"
             ],
             [
              0.7777777777777778,
              "#fb9f3a"
             ],
             [
              0.8888888888888888,
              "#fdca26"
             ],
             [
              1,
              "#f0f921"
             ]
            ],
            "type": "surface"
           }
          ],
          "table": [
           {
            "cells": {
             "fill": {
              "color": "#EBF0F8"
             },
             "line": {
              "color": "white"
             }
            },
            "header": {
             "fill": {
              "color": "#C8D4E3"
             },
             "line": {
              "color": "white"
             }
            },
            "type": "table"
           }
          ]
         },
         "layout": {
          "annotationdefaults": {
           "arrowcolor": "#2a3f5f",
           "arrowhead": 0,
           "arrowwidth": 1
          },
          "autotypenumbers": "strict",
          "coloraxis": {
           "colorbar": {
            "outlinewidth": 0,
            "ticks": ""
           }
          },
          "colorscale": {
           "diverging": [
            [
             0,
             "#8e0152"
            ],
            [
             0.1,
             "#c51b7d"
            ],
            [
             0.2,
             "#de77ae"
            ],
            [
             0.3,
             "#f1b6da"
            ],
            [
             0.4,
             "#fde0ef"
            ],
            [
             0.5,
             "#f7f7f7"
            ],
            [
             0.6,
             "#e6f5d0"
            ],
            [
             0.7,
             "#b8e186"
            ],
            [
             0.8,
             "#7fbc41"
            ],
            [
             0.9,
             "#4d9221"
            ],
            [
             1,
             "#276419"
            ]
           ],
           "sequential": [
            [
             0,
             "#0d0887"
            ],
            [
             0.1111111111111111,
             "#46039f"
            ],
            [
             0.2222222222222222,
             "#7201a8"
            ],
            [
             0.3333333333333333,
             "#9c179e"
            ],
            [
             0.4444444444444444,
             "#bd3786"
            ],
            [
             0.5555555555555556,
             "#d8576b"
            ],
            [
             0.6666666666666666,
             "#ed7953"
            ],
            [
             0.7777777777777778,
             "#fb9f3a"
            ],
            [
             0.8888888888888888,
             "#fdca26"
            ],
            [
             1,
             "#f0f921"
            ]
           ],
           "sequentialminus": [
            [
             0,
             "#0d0887"
            ],
            [
             0.1111111111111111,
             "#46039f"
            ],
            [
             0.2222222222222222,
             "#7201a8"
            ],
            [
             0.3333333333333333,
             "#9c179e"
            ],
            [
             0.4444444444444444,
             "#bd3786"
            ],
            [
             0.5555555555555556,
             "#d8576b"
            ],
            [
             0.6666666666666666,
             "#ed7953"
            ],
            [
             0.7777777777777778,
             "#fb9f3a"
            ],
            [
             0.8888888888888888,
             "#fdca26"
            ],
            [
             1,
             "#f0f921"
            ]
           ]
          },
          "colorway": [
           "#636efa",
           "#EF553B",
           "#00cc96",
           "#ab63fa",
           "#FFA15A",
           "#19d3f3",
           "#FF6692",
           "#B6E880",
           "#FF97FF",
           "#FECB52"
          ],
          "font": {
           "color": "#2a3f5f"
          },
          "geo": {
           "bgcolor": "white",
           "lakecolor": "white",
           "landcolor": "white",
           "showlakes": true,
           "showland": true,
           "subunitcolor": "#C8D4E3"
          },
          "hoverlabel": {
           "align": "left"
          },
          "hovermode": "closest",
          "mapbox": {
           "style": "light"
          },
          "paper_bgcolor": "white",
          "plot_bgcolor": "white",
          "polar": {
           "angularaxis": {
            "gridcolor": "#EBF0F8",
            "linecolor": "#EBF0F8",
            "ticks": ""
           },
           "bgcolor": "white",
           "radialaxis": {
            "gridcolor": "#EBF0F8",
            "linecolor": "#EBF0F8",
            "ticks": ""
           }
          },
          "scene": {
           "xaxis": {
            "backgroundcolor": "white",
            "gridcolor": "#DFE8F3",
            "gridwidth": 2,
            "linecolor": "#EBF0F8",
            "showbackground": true,
            "ticks": "",
            "zerolinecolor": "#EBF0F8"
           },
           "yaxis": {
            "backgroundcolor": "white",
            "gridcolor": "#DFE8F3",
            "gridwidth": 2,
            "linecolor": "#EBF0F8",
            "showbackground": true,
            "ticks": "",
            "zerolinecolor": "#EBF0F8"
           },
           "zaxis": {
            "backgroundcolor": "white",
            "gridcolor": "#DFE8F3",
            "gridwidth": 2,
            "linecolor": "#EBF0F8",
            "showbackground": true,
            "ticks": "",
            "zerolinecolor": "#EBF0F8"
           }
          },
          "shapedefaults": {
           "line": {
            "color": "#2a3f5f"
           }
          },
          "ternary": {
           "aaxis": {
            "gridcolor": "#DFE8F3",
            "linecolor": "#A2B1C6",
            "ticks": ""
           },
           "baxis": {
            "gridcolor": "#DFE8F3",
            "linecolor": "#A2B1C6",
            "ticks": ""
           },
           "bgcolor": "white",
           "caxis": {
            "gridcolor": "#DFE8F3",
            "linecolor": "#A2B1C6",
            "ticks": ""
           }
          },
          "title": {
           "x": 0.05
          },
          "xaxis": {
           "automargin": true,
           "gridcolor": "#EBF0F8",
           "linecolor": "#EBF0F8",
           "ticks": "",
           "title": {
            "standoff": 15
           },
           "zerolinecolor": "#EBF0F8",
           "zerolinewidth": 2
          },
          "yaxis": {
           "automargin": true,
           "gridcolor": "#EBF0F8",
           "linecolor": "#EBF0F8",
           "ticks": "",
           "title": {
            "standoff": 15
           },
           "zerolinecolor": "#EBF0F8",
           "zerolinewidth": 2
          }
         }
        },
        "title": {
         "text": "General savings deposits Nominal interest, % per year",
         "x": 0.5
        },
        "xaxis": {
         "anchor": "y",
         "domain": [
          0,
          1
         ],
         "title": {
          "text": "Year"
         }
        },
        "yaxis": {
         "anchor": "x",
         "domain": [
          0,
          1
         ],
         "title": {
          "text": ""
         }
        }
       }
      }
     },
     "metadata": {},
     "output_type": "display_data"
    }
   ],
   "source": [
    "def charts_Interest(variation:str)->go.Figure:\n",
    "    Interest = pd.read_sql_query('SELECT * FROM Interest', conn)\n",
    "    return (\n",
    "        Interest\n",
    "        .replace(r'^\\.+$','0.0', regex=True)\n",
    "        .astype(float)\n",
    "        .plot(x = 'Year', y = variation, title = variation, kind='line', markers=True, template='plotly_white')\n",
    "        .update_layout(title_x = 0.5)\n",
    "        .update_yaxes(title_text = '')\n",
    "    )\n",
    "\n",
    "\n",
    "charts_Interest('General savings deposits Nominal interest, % per year')"
   ]
  },
  {
   "cell_type": "code",
   "execution_count": 14,
   "metadata": {},
   "outputs": [
    {
     "data": {
      "application/vnd.plotly.v1+json": {
       "config": {
        "plotlyServerURL": "https://plot.ly"
       },
       "data": [
        {
         "hovertemplate": "Quarter=%{x}<br>1. Private final consumption=%{y}<extra></extra>",
         "legendgroup": "",
         "line": {
          "color": "#636efa",
          "dash": "solid"
         },
         "marker": {
          "symbol": "circle"
         },
         "mode": "lines+markers",
         "name": "",
         "orientation": "v",
         "showlegend": false,
         "type": "scatter",
         "x": [
          "1995Q1",
          "1995Q2",
          "1995Q3",
          "1995Q4",
          "1996Q1",
          "1996Q2",
          "1996Q3",
          "1996Q4",
          "1997Q1",
          "1997Q2",
          "1997Q3",
          "1997Q4",
          "1998Q1",
          "1998Q2",
          "1998Q3",
          "1998Q4",
          "1999Q1",
          "1999Q2",
          "1999Q3",
          "1999Q4",
          "2000Q1",
          "2000Q2",
          "2000Q3",
          "2000Q4",
          "2001Q1",
          "2001Q2",
          "2001Q3",
          "2001Q4",
          "2002Q1",
          "2002Q2",
          "2002Q3",
          "2002Q4",
          "2003Q1",
          "2003Q2",
          "2003Q3",
          "2003Q4",
          "2004Q1",
          "2004Q2",
          "2004Q3",
          "2004Q4",
          "2005Q1",
          "2005Q2",
          "2005Q3",
          "2005Q4",
          "2006Q1",
          "2006Q2",
          "2006Q3",
          "2006Q4",
          "2007Q1",
          "2007Q2",
          "2007Q3",
          "2007Q4",
          "2008Q1",
          "2008Q2",
          "2008Q3",
          "2008Q4",
          "2009Q1",
          "2009Q2",
          "2009Q3",
          "2009Q4",
          "2010Q1",
          "2010Q2",
          "2010Q3",
          "2010Q4",
          "2011Q1",
          "2011Q2",
          "2011Q3",
          "2011Q4",
          "2012Q1",
          "2012Q2",
          "2012Q3",
          "2012Q4",
          "2013Q1",
          "2013Q2",
          "2013Q3",
          "2013Q4",
          "2014Q1",
          "2014Q2",
          "2014Q3",
          "2014Q4",
          "2015Q1",
          "2015Q2",
          "2015Q3",
          "2015Q4",
          "2016Q1",
          "2016Q2",
          "2016Q3",
          "2016Q4",
          "2017Q1",
          "2017Q2",
          "2017Q3",
          "2017Q4",
          "2018Q1",
          "2018Q2",
          "2018Q3",
          "2018Q4",
          "2019Q1",
          "2019Q2",
          "2019Q3",
          "2019Q4",
          "2020Q1",
          "2020Q2",
          "2020Q3",
          "2020Q4",
          "2021Q1",
          "2021Q2",
          "2021Q3",
          "2021Q4",
          "2022Q1",
          "2022Q2",
          "2022Q3",
          "2022Q4",
          "2023Q1",
          "2023Q2",
          "2023Q3",
          "2023Q4",
          "2024Q1",
          "2024Q2",
          "2024Q3",
          "2024Q4"
         ],
         "xaxis": "x",
         "y": [
          59393,
          66165,
          66669,
          70976,
          64243,
          71740,
          71942,
          76479,
          68814,
          76883,
          78105,
          81982,
          77899,
          86036,
          89006,
          92346,
          87832,
          94777,
          98154,
          101631,
          95422,
          105898,
          107771,
          111184,
          103049,
          110995,
          112332,
          114879,
          107802,
          116635,
          117158,
          120263,
          115976,
          123519,
          124572,
          130482,
          127096,
          136655,
          137318,
          146934,
          141941,
          157973,
          155340,
          164696,
          162286,
          177280,
          170643,
          180437,
          174191,
          195497,
          194534,
          207078,
          202838,
          213225,
          206923,
          200507,
          194060,
          208326,
          211659,
          220752,
          208958,
          214615,
          213249,
          227594,
          211047,
          229585,
          228323,
          246359,
          229847,
          250752,
          241301,
          264547,
          245434,
          259586,
          252047,
          276752,
          254617,
          273908,
          268030,
          294191,
          268301,
          290269,
          278625,
          310921,
          292282,
          319315,
          295713,
          330412,
          309876,
          337684,
          319581,
          356369,
          331848,
          365424,
          347099,
          385812,
          355771,
          390743,
          374007,
          397832,
          371762,
          364521,
          382155,
          403521,
          388003,
          410919,
          417680,
          470462,
          443099,
          495744,
          476605,
          536509,
          514846,
          551475,
          510033,
          564106,
          547750,
          578964,
          546104,
          593704
         ],
         "yaxis": "y"
        }
       ],
       "layout": {
        "legend": {
         "tracegroupgap": 0
        },
        "template": {
         "data": {
          "bar": [
           {
            "error_x": {
             "color": "#2a3f5f"
            },
            "error_y": {
             "color": "#2a3f5f"
            },
            "marker": {
             "line": {
              "color": "white",
              "width": 0.5
             },
             "pattern": {
              "fillmode": "overlay",
              "size": 10,
              "solidity": 0.2
             }
            },
            "type": "bar"
           }
          ],
          "barpolar": [
           {
            "marker": {
             "line": {
              "color": "white",
              "width": 0.5
             },
             "pattern": {
              "fillmode": "overlay",
              "size": 10,
              "solidity": 0.2
             }
            },
            "type": "barpolar"
           }
          ],
          "carpet": [
           {
            "aaxis": {
             "endlinecolor": "#2a3f5f",
             "gridcolor": "#C8D4E3",
             "linecolor": "#C8D4E3",
             "minorgridcolor": "#C8D4E3",
             "startlinecolor": "#2a3f5f"
            },
            "baxis": {
             "endlinecolor": "#2a3f5f",
             "gridcolor": "#C8D4E3",
             "linecolor": "#C8D4E3",
             "minorgridcolor": "#C8D4E3",
             "startlinecolor": "#2a3f5f"
            },
            "type": "carpet"
           }
          ],
          "choropleth": [
           {
            "colorbar": {
             "outlinewidth": 0,
             "ticks": ""
            },
            "type": "choropleth"
           }
          ],
          "contour": [
           {
            "colorbar": {
             "outlinewidth": 0,
             "ticks": ""
            },
            "colorscale": [
             [
              0,
              "#0d0887"
             ],
             [
              0.1111111111111111,
              "#46039f"
             ],
             [
              0.2222222222222222,
              "#7201a8"
             ],
             [
              0.3333333333333333,
              "#9c179e"
             ],
             [
              0.4444444444444444,
              "#bd3786"
             ],
             [
              0.5555555555555556,
              "#d8576b"
             ],
             [
              0.6666666666666666,
              "#ed7953"
             ],
             [
              0.7777777777777778,
              "#fb9f3a"
             ],
             [
              0.8888888888888888,
              "#fdca26"
             ],
             [
              1,
              "#f0f921"
             ]
            ],
            "type": "contour"
           }
          ],
          "contourcarpet": [
           {
            "colorbar": {
             "outlinewidth": 0,
             "ticks": ""
            },
            "type": "contourcarpet"
           }
          ],
          "heatmap": [
           {
            "colorbar": {
             "outlinewidth": 0,
             "ticks": ""
            },
            "colorscale": [
             [
              0,
              "#0d0887"
             ],
             [
              0.1111111111111111,
              "#46039f"
             ],
             [
              0.2222222222222222,
              "#7201a8"
             ],
             [
              0.3333333333333333,
              "#9c179e"
             ],
             [
              0.4444444444444444,
              "#bd3786"
             ],
             [
              0.5555555555555556,
              "#d8576b"
             ],
             [
              0.6666666666666666,
              "#ed7953"
             ],
             [
              0.7777777777777778,
              "#fb9f3a"
             ],
             [
              0.8888888888888888,
              "#fdca26"
             ],
             [
              1,
              "#f0f921"
             ]
            ],
            "type": "heatmap"
           }
          ],
          "heatmapgl": [
           {
            "colorbar": {
             "outlinewidth": 0,
             "ticks": ""
            },
            "colorscale": [
             [
              0,
              "#0d0887"
             ],
             [
              0.1111111111111111,
              "#46039f"
             ],
             [
              0.2222222222222222,
              "#7201a8"
             ],
             [
              0.3333333333333333,
              "#9c179e"
             ],
             [
              0.4444444444444444,
              "#bd3786"
             ],
             [
              0.5555555555555556,
              "#d8576b"
             ],
             [
              0.6666666666666666,
              "#ed7953"
             ],
             [
              0.7777777777777778,
              "#fb9f3a"
             ],
             [
              0.8888888888888888,
              "#fdca26"
             ],
             [
              1,
              "#f0f921"
             ]
            ],
            "type": "heatmapgl"
           }
          ],
          "histogram": [
           {
            "marker": {
             "pattern": {
              "fillmode": "overlay",
              "size": 10,
              "solidity": 0.2
             }
            },
            "type": "histogram"
           }
          ],
          "histogram2d": [
           {
            "colorbar": {
             "outlinewidth": 0,
             "ticks": ""
            },
            "colorscale": [
             [
              0,
              "#0d0887"
             ],
             [
              0.1111111111111111,
              "#46039f"
             ],
             [
              0.2222222222222222,
              "#7201a8"
             ],
             [
              0.3333333333333333,
              "#9c179e"
             ],
             [
              0.4444444444444444,
              "#bd3786"
             ],
             [
              0.5555555555555556,
              "#d8576b"
             ],
             [
              0.6666666666666666,
              "#ed7953"
             ],
             [
              0.7777777777777778,
              "#fb9f3a"
             ],
             [
              0.8888888888888888,
              "#fdca26"
             ],
             [
              1,
              "#f0f921"
             ]
            ],
            "type": "histogram2d"
           }
          ],
          "histogram2dcontour": [
           {
            "colorbar": {
             "outlinewidth": 0,
             "ticks": ""
            },
            "colorscale": [
             [
              0,
              "#0d0887"
             ],
             [
              0.1111111111111111,
              "#46039f"
             ],
             [
              0.2222222222222222,
              "#7201a8"
             ],
             [
              0.3333333333333333,
              "#9c179e"
             ],
             [
              0.4444444444444444,
              "#bd3786"
             ],
             [
              0.5555555555555556,
              "#d8576b"
             ],
             [
              0.6666666666666666,
              "#ed7953"
             ],
             [
              0.7777777777777778,
              "#fb9f3a"
             ],
             [
              0.8888888888888888,
              "#fdca26"
             ],
             [
              1,
              "#f0f921"
             ]
            ],
            "type": "histogram2dcontour"
           }
          ],
          "mesh3d": [
           {
            "colorbar": {
             "outlinewidth": 0,
             "ticks": ""
            },
            "type": "mesh3d"
           }
          ],
          "parcoords": [
           {
            "line": {
             "colorbar": {
              "outlinewidth": 0,
              "ticks": ""
             }
            },
            "type": "parcoords"
           }
          ],
          "pie": [
           {
            "automargin": true,
            "type": "pie"
           }
          ],
          "scatter": [
           {
            "fillpattern": {
             "fillmode": "overlay",
             "size": 10,
             "solidity": 0.2
            },
            "type": "scatter"
           }
          ],
          "scatter3d": [
           {
            "line": {
             "colorbar": {
              "outlinewidth": 0,
              "ticks": ""
             }
            },
            "marker": {
             "colorbar": {
              "outlinewidth": 0,
              "ticks": ""
             }
            },
            "type": "scatter3d"
           }
          ],
          "scattercarpet": [
           {
            "marker": {
             "colorbar": {
              "outlinewidth": 0,
              "ticks": ""
             }
            },
            "type": "scattercarpet"
           }
          ],
          "scattergeo": [
           {
            "marker": {
             "colorbar": {
              "outlinewidth": 0,
              "ticks": ""
             }
            },
            "type": "scattergeo"
           }
          ],
          "scattergl": [
           {
            "marker": {
             "colorbar": {
              "outlinewidth": 0,
              "ticks": ""
             }
            },
            "type": "scattergl"
           }
          ],
          "scattermapbox": [
           {
            "marker": {
             "colorbar": {
              "outlinewidth": 0,
              "ticks": ""
             }
            },
            "type": "scattermapbox"
           }
          ],
          "scatterpolar": [
           {
            "marker": {
             "colorbar": {
              "outlinewidth": 0,
              "ticks": ""
             }
            },
            "type": "scatterpolar"
           }
          ],
          "scatterpolargl": [
           {
            "marker": {
             "colorbar": {
              "outlinewidth": 0,
              "ticks": ""
             }
            },
            "type": "scatterpolargl"
           }
          ],
          "scatterternary": [
           {
            "marker": {
             "colorbar": {
              "outlinewidth": 0,
              "ticks": ""
             }
            },
            "type": "scatterternary"
           }
          ],
          "surface": [
           {
            "colorbar": {
             "outlinewidth": 0,
             "ticks": ""
            },
            "colorscale": [
             [
              0,
              "#0d0887"
             ],
             [
              0.1111111111111111,
              "#46039f"
             ],
             [
              0.2222222222222222,
              "#7201a8"
             ],
             [
              0.3333333333333333,
              "#9c179e"
             ],
             [
              0.4444444444444444,
              "#bd3786"
             ],
             [
              0.5555555555555556,
              "#d8576b"
             ],
             [
              0.6666666666666666,
              "#ed7953"
             ],
             [
              0.7777777777777778,
              "#fb9f3a"
             ],
             [
              0.8888888888888888,
              "#fdca26"
             ],
             [
              1,
              "#f0f921"
             ]
            ],
            "type": "surface"
           }
          ],
          "table": [
           {
            "cells": {
             "fill": {
              "color": "#EBF0F8"
             },
             "line": {
              "color": "white"
             }
            },
            "header": {
             "fill": {
              "color": "#C8D4E3"
             },
             "line": {
              "color": "white"
             }
            },
            "type": "table"
           }
          ]
         },
         "layout": {
          "annotationdefaults": {
           "arrowcolor": "#2a3f5f",
           "arrowhead": 0,
           "arrowwidth": 1
          },
          "autotypenumbers": "strict",
          "coloraxis": {
           "colorbar": {
            "outlinewidth": 0,
            "ticks": ""
           }
          },
          "colorscale": {
           "diverging": [
            [
             0,
             "#8e0152"
            ],
            [
             0.1,
             "#c51b7d"
            ],
            [
             0.2,
             "#de77ae"
            ],
            [
             0.3,
             "#f1b6da"
            ],
            [
             0.4,
             "#fde0ef"
            ],
            [
             0.5,
             "#f7f7f7"
            ],
            [
             0.6,
             "#e6f5d0"
            ],
            [
             0.7,
             "#b8e186"
            ],
            [
             0.8,
             "#7fbc41"
            ],
            [
             0.9,
             "#4d9221"
            ],
            [
             1,
             "#276419"
            ]
           ],
           "sequential": [
            [
             0,
             "#0d0887"
            ],
            [
             0.1111111111111111,
             "#46039f"
            ],
            [
             0.2222222222222222,
             "#7201a8"
            ],
            [
             0.3333333333333333,
             "#9c179e"
            ],
            [
             0.4444444444444444,
             "#bd3786"
            ],
            [
             0.5555555555555556,
             "#d8576b"
            ],
            [
             0.6666666666666666,
             "#ed7953"
            ],
            [
             0.7777777777777778,
             "#fb9f3a"
            ],
            [
             0.8888888888888888,
             "#fdca26"
            ],
            [
             1,
             "#f0f921"
            ]
           ],
           "sequentialminus": [
            [
             0,
             "#0d0887"
            ],
            [
             0.1111111111111111,
             "#46039f"
            ],
            [
             0.2222222222222222,
             "#7201a8"
            ],
            [
             0.3333333333333333,
             "#9c179e"
            ],
            [
             0.4444444444444444,
             "#bd3786"
            ],
            [
             0.5555555555555556,
             "#d8576b"
            ],
            [
             0.6666666666666666,
             "#ed7953"
            ],
            [
             0.7777777777777778,
             "#fb9f3a"
            ],
            [
             0.8888888888888888,
             "#fdca26"
            ],
            [
             1,
             "#f0f921"
            ]
           ]
          },
          "colorway": [
           "#636efa",
           "#EF553B",
           "#00cc96",
           "#ab63fa",
           "#FFA15A",
           "#19d3f3",
           "#FF6692",
           "#B6E880",
           "#FF97FF",
           "#FECB52"
          ],
          "font": {
           "color": "#2a3f5f"
          },
          "geo": {
           "bgcolor": "white",
           "lakecolor": "white",
           "landcolor": "white",
           "showlakes": true,
           "showland": true,
           "subunitcolor": "#C8D4E3"
          },
          "hoverlabel": {
           "align": "left"
          },
          "hovermode": "closest",
          "mapbox": {
           "style": "light"
          },
          "paper_bgcolor": "white",
          "plot_bgcolor": "white",
          "polar": {
           "angularaxis": {
            "gridcolor": "#EBF0F8",
            "linecolor": "#EBF0F8",
            "ticks": ""
           },
           "bgcolor": "white",
           "radialaxis": {
            "gridcolor": "#EBF0F8",
            "linecolor": "#EBF0F8",
            "ticks": ""
           }
          },
          "scene": {
           "xaxis": {
            "backgroundcolor": "white",
            "gridcolor": "#DFE8F3",
            "gridwidth": 2,
            "linecolor": "#EBF0F8",
            "showbackground": true,
            "ticks": "",
            "zerolinecolor": "#EBF0F8"
           },
           "yaxis": {
            "backgroundcolor": "white",
            "gridcolor": "#DFE8F3",
            "gridwidth": 2,
            "linecolor": "#EBF0F8",
            "showbackground": true,
            "ticks": "",
            "zerolinecolor": "#EBF0F8"
           },
           "zaxis": {
            "backgroundcolor": "white",
            "gridcolor": "#DFE8F3",
            "gridwidth": 2,
            "linecolor": "#EBF0F8",
            "showbackground": true,
            "ticks": "",
            "zerolinecolor": "#EBF0F8"
           }
          },
          "shapedefaults": {
           "line": {
            "color": "#2a3f5f"
           }
          },
          "ternary": {
           "aaxis": {
            "gridcolor": "#DFE8F3",
            "linecolor": "#A2B1C6",
            "ticks": ""
           },
           "baxis": {
            "gridcolor": "#DFE8F3",
            "linecolor": "#A2B1C6",
            "ticks": ""
           },
           "bgcolor": "white",
           "caxis": {
            "gridcolor": "#DFE8F3",
            "linecolor": "#A2B1C6",
            "ticks": ""
           }
          },
          "title": {
           "x": 0.05
          },
          "xaxis": {
           "automargin": true,
           "gridcolor": "#EBF0F8",
           "linecolor": "#EBF0F8",
           "ticks": "",
           "title": {
            "standoff": 15
           },
           "zerolinecolor": "#EBF0F8",
           "zerolinewidth": 2
          },
          "yaxis": {
           "automargin": true,
           "gridcolor": "#EBF0F8",
           "linecolor": "#EBF0F8",
           "ticks": "",
           "title": {
            "standoff": 15
           },
           "zerolinecolor": "#EBF0F8",
           "zerolinewidth": 2
          }
         }
        },
        "title": {
         "text": "1. Private final consumption in Current prices",
         "x": 0.5
        },
        "xaxis": {
         "anchor": "y",
         "domain": [
          0,
          1
         ],
         "title": {
          "text": "Quarter"
         }
        },
        "yaxis": {
         "anchor": "x",
         "domain": [
          0,
          1
         ],
         "title": {
          "text": ""
         }
        }
       }
      }
     },
     "metadata": {},
     "output_type": "display_data"
    }
   ],
   "source": [
    "\n",
    "def charts_grossDomesticProduct(value_unit:str,Category)->go.Figure:\n",
    "    return (\n",
    "        pd.read_sql_query('SELECT * FROM GDP', conn)\n",
    "        .set_index(['Value unit','Category'])\n",
    "        .loc[pd.IndexSlice[value_unit, Category,:], :]#.T\n",
    "        .reset_index().T\n",
    "        .iloc[2:].reset_index(names = 'Quarter')\n",
    "        .rename(columns = {0:Category})\n",
    "        .assign(**{Category: lambda x: x[Category].astype(float)})\n",
    "        .plot(x='Quarter', y=Category, title = f\"{Category} in {value_unit}\", kind='line', markers=True, template='plotly_white')\n",
    "        .update_layout(title_x = 0.5)   \n",
    "        .update_yaxes(title_text = '')\n",
    "    )\n",
    "\n",
    "charts_grossDomesticProduct(value_unit= 'Current prices', Category = '1. Private final consumption')"
   ]
  },
  {
   "cell_type": "code",
   "execution_count": 16,
   "metadata": {},
   "outputs": [
    {
     "data": {
      "application/vnd.plotly.v1+json": {
       "config": {
        "plotlyServerURL": "https://plot.ly"
       },
       "data": [
        {
         "hovertemplate": "Month=%{x}<br>Consumer price index Index=%{y}<extra></extra>",
         "legendgroup": "",
         "line": {
          "color": "#636efa",
          "dash": "solid"
         },
         "marker": {
          "symbol": "circle"
         },
         "mode": "lines+markers",
         "name": "",
         "orientation": "v",
         "showlegend": false,
         "type": "scatter",
         "x": [
          "1988M05",
          "1988M06",
          "1988M07",
          "1988M08",
          "1988M09",
          "1988M10",
          "1988M11",
          "1988M12",
          "1989M01",
          "1989M02",
          "1989M03",
          "1989M04",
          "1989M05",
          "1989M06",
          "1989M07",
          "1989M08",
          "1989M09",
          "1989M10",
          "1989M11",
          "1989M12",
          "1990M01",
          "1990M02",
          "1990M03",
          "1990M04",
          "1990M05",
          "1990M06",
          "1990M07",
          "1990M08",
          "1990M09",
          "1990M10",
          "1990M11",
          "1990M12",
          "1991M01",
          "1991M02",
          "1991M03",
          "1991M04",
          "1991M05",
          "1991M06",
          "1991M07",
          "1991M08",
          "1991M09",
          "1991M10",
          "1991M11",
          "1991M12",
          "1992M01",
          "1992M02",
          "1992M03",
          "1992M04",
          "1992M05",
          "1992M06",
          "1992M07",
          "1992M08",
          "1992M09",
          "1992M10",
          "1992M11",
          "1992M12",
          "1993M01",
          "1993M02",
          "1993M03",
          "1993M04",
          "1993M05",
          "1993M06",
          "1993M07",
          "1993M08",
          "1993M09",
          "1993M10",
          "1993M11",
          "1993M12",
          "1994M01",
          "1994M02",
          "1994M03",
          "1994M04",
          "1994M05",
          "1994M06",
          "1994M07",
          "1994M08",
          "1994M09",
          "1994M10",
          "1994M11",
          "1994M12",
          "1995M01",
          "1995M02",
          "1995M03",
          "1995M04",
          "1995M05",
          "1995M06",
          "1995M07",
          "1995M08",
          "1995M09",
          "1995M10",
          "1995M11",
          "1995M12",
          "1996M01",
          "1996M02",
          "1996M03",
          "1996M04",
          "1996M05",
          "1996M06",
          "1996M07",
          "1996M08",
          "1996M09",
          "1996M10",
          "1996M11",
          "1996M12",
          "1997M01",
          "1997M02",
          "1997M03",
          "1997M04",
          "1997M05",
          "1997M06",
          "1997M07",
          "1997M08",
          "1997M09",
          "1997M10",
          "1997M11",
          "1997M12",
          "1998M01",
          "1998M02",
          "1998M03",
          "1998M04",
          "1998M05",
          "1998M06",
          "1998M07",
          "1998M08",
          "1998M09",
          "1998M10",
          "1998M11",
          "1998M12",
          "1999M01",
          "1999M02",
          "1999M03",
          "1999M04",
          "1999M05",
          "1999M06",
          "1999M07",
          "1999M08",
          "1999M09",
          "1999M10",
          "1999M11",
          "1999M12",
          "2000M01",
          "2000M02",
          "2000M03",
          "2000M04",
          "2000M05",
          "2000M06",
          "2000M07",
          "2000M08",
          "2000M09",
          "2000M10",
          "2000M11",
          "2000M12",
          "2001M01",
          "2001M02",
          "2001M03",
          "2001M04",
          "2001M05",
          "2001M06",
          "2001M07",
          "2001M08",
          "2001M09",
          "2001M10",
          "2001M11",
          "2001M12",
          "2002M01",
          "2002M02",
          "2002M03",
          "2002M04",
          "2002M05",
          "2002M06",
          "2002M07",
          "2002M08",
          "2002M09",
          "2002M10",
          "2002M11",
          "2002M12",
          "2003M01",
          "2003M02",
          "2003M03",
          "2003M04",
          "2003M05",
          "2003M06",
          "2003M07",
          "2003M08",
          "2003M09",
          "2003M10",
          "2003M11",
          "2003M12",
          "2004M01",
          "2004M02",
          "2004M03",
          "2004M04",
          "2004M05",
          "2004M06",
          "2004M07",
          "2004M08",
          "2004M09",
          "2004M10",
          "2004M11",
          "2004M12",
          "2005M01",
          "2005M02",
          "2005M03",
          "2005M04",
          "2005M05",
          "2005M06",
          "2005M07",
          "2005M08",
          "2005M09",
          "2005M10",
          "2005M11",
          "2005M12",
          "2006M01",
          "2006M02",
          "2006M03",
          "2006M04",
          "2006M05",
          "2006M06",
          "2006M07",
          "2006M08",
          "2006M09",
          "2006M10",
          "2006M11",
          "2006M12",
          "2007M01",
          "2007M02",
          "2007M03",
          "2007M04",
          "2007M05",
          "2007M06",
          "2007M07",
          "2007M08",
          "2007M09",
          "2007M10",
          "2007M11",
          "2007M12",
          "2008M01",
          "2008M02",
          "2008M03",
          "2008M04",
          "2008M05",
          "2008M06",
          "2008M07",
          "2008M08",
          "2008M09",
          "2008M10",
          "2008M11",
          "2008M12",
          "2009M01",
          "2009M02",
          "2009M03",
          "2009M04",
          "2009M05",
          "2009M06",
          "2009M07",
          "2009M08",
          "2009M09",
          "2009M10",
          "2009M11",
          "2009M12",
          "2010M01",
          "2010M02",
          "2010M03",
          "2010M04",
          "2010M05",
          "2010M06",
          "2010M07",
          "2010M08",
          "2010M09",
          "2010M10",
          "2010M11",
          "2010M12",
          "2011M01",
          "2011M02",
          "2011M03",
          "2011M04",
          "2011M05",
          "2011M06",
          "2011M07",
          "2011M08",
          "2011M09",
          "2011M10",
          "2011M11",
          "2011M12",
          "2012M01",
          "2012M02",
          "2012M03",
          "2012M04",
          "2012M05",
          "2012M06",
          "2012M07",
          "2012M08",
          "2012M09",
          "2012M10",
          "2012M11",
          "2012M12",
          "2013M01",
          "2013M02",
          "2013M03",
          "2013M04",
          "2013M05",
          "2013M06",
          "2013M07",
          "2013M08",
          "2013M09",
          "2013M10",
          "2013M11",
          "2013M12",
          "2014M01",
          "2014M02",
          "2014M03",
          "2014M04",
          "2014M05",
          "2014M06",
          "2014M07",
          "2014M08",
          "2014M09",
          "2014M10",
          "2014M11",
          "2014M12",
          "2015M01",
          "2015M02",
          "2015M03",
          "2015M04",
          "2015M05",
          "2015M06",
          "2015M07",
          "2015M08",
          "2015M09",
          "2015M10",
          "2015M11",
          "2015M12",
          "2016M01",
          "2016M02",
          "2016M03",
          "2016M04",
          "2016M05",
          "2016M06",
          "2016M07",
          "2016M08",
          "2016M09",
          "2016M10",
          "2016M11",
          "2016M12",
          "2017M01",
          "2017M02",
          "2017M03",
          "2017M04",
          "2017M05",
          "2017M06",
          "2017M07",
          "2017M08",
          "2017M09",
          "2017M10",
          "2017M11",
          "2017M12",
          "2018M01",
          "2018M02",
          "2018M03",
          "2018M04",
          "2018M05",
          "2018M06",
          "2018M07",
          "2018M08",
          "2018M09",
          "2018M10",
          "2018M11",
          "2018M12",
          "2019M01",
          "2019M02",
          "2019M03",
          "2019M04",
          "2019M05",
          "2019M06",
          "2019M07",
          "2019M08",
          "2019M09",
          "2019M10",
          "2019M11",
          "2019M12",
          "2020M01",
          "2020M02",
          "2020M03",
          "2020M04",
          "2020M05",
          "2020M06",
          "2020M07",
          "2020M08",
          "2020M09",
          "2020M10",
          "2020M11",
          "2020M12",
          "2021M01",
          "2021M02",
          "2021M03",
          "2021M04",
          "2021M05",
          "2021M06",
          "2021M07",
          "2021M08",
          "2021M09",
          "2021M10",
          "2021M11",
          "2021M12",
          "2022M01",
          "2022M02",
          "2022M03",
          "2022M04",
          "2022M05",
          "2022M06",
          "2022M07",
          "2022M08",
          "2022M09",
          "2022M10",
          "2022M11",
          "2022M12",
          "2023M01",
          "2023M02",
          "2023M03",
          "2023M04",
          "2023M05",
          "2023M06",
          "2023M07",
          "2023M08",
          "2023M09",
          "2023M10",
          "2023M11",
          "2023M12",
          "2024M01",
          "2024M02",
          "2024M03",
          "2024M04",
          "2024M05",
          "2024M06",
          "2024M07",
          "2024M08",
          "2024M09",
          "2024M10",
          "2024M11",
          "2024M12",
          "2025M01",
          "2025M02",
          "2025M03"
         ],
         "xaxis": "x",
         "y": [
          100,
          103.4,
          107,
          109.3,
          110,
          110.4,
          110.5,
          110.7,
          112.6,
          114.2,
          117.4,
          119.9,
          122.3,
          125.9,
          126.8,
          128.5,
          131.1,
          133.7,
          135.7,
          138.6,
          139.3,
          141.5,
          142.7,
          143.1,
          144.4,
          145.4,
          146.4,
          146.8,
          146.8,
          147.2,
          148.2,
          148.6,
          149.5,
          150,
          150.3,
          151,
          152.8,
          154.9,
          156,
          157.2,
          158.1,
          159.3,
          160,
          159.8,
          160.2,
          160.4,
          160.6,
          160.6,
          160.5,
          161.1,
          161.4,
          161.4,
          161.3,
          161.4,
          161.4,
          162.2,
          164.1,
          165.3,
          165.4,
          165.9,
          166.3,
          166.2,
          167.7,
          169.2,
          169.8,
          170.8,
          170.8,
          169.9,
          169.3,
          169.5,
          169.7,
          169.9,
          169.9,
          170.1,
          170.4,
          170.5,
          171,
          170.8,
          170.7,
          170.8,
          172.1,
          172.3,
          172,
          171.8,
          172.1,
          172.3,
          172.8,
          173.5,
          174.1,
          174.9,
          174.3,
          174.2,
          174.9,
          175.2,
          175.5,
          175.8,
          176.9,
          176.7,
          176.9,
          178,
          178.4,
          178.5,
          178.6,
          177.8,
          178.4,
          178.5,
          178.4,
          179.7,
          179.4,
          179.8,
          180.1,
          180.6,
          181.3,
          181.9,
          181.7,
          181.4,
          182.4,
          182,
          182.7,
          183.1,
          183.7,
          184,
          183.6,
          182.6,
          182.8,
          183.6,
          184.1,
          183.7,
          184.8,
          184.5,
          185.4,
          186.4,
          187.3,
          188.8,
          189.5,
          190.2,
          191.8,
          193.3,
          193.3,
          194,
          195.5,
          194.9,
          196.4,
          197.6,
          198.4,
          199.1,
          200.1,
          199.1,
          199.5,
          201.5,
          202.1,
          202.1,
          202.4,
          202.8,
          204,
          206.5,
          209.4,
          212.6,
          214.2,
          214.9,
          216.3,
          217.7,
          218.5,
          219.5,
          221.5,
          220.9,
          221.8,
          221.9,
          221.8,
          222.8,
          223,
          221.8,
          222.9,
          224.1,
          223.7,
          223.9,
          224.7,
          224.3,
          226.7,
          227,
          226.6,
          226.8,
          226.5,
          226.3,
          227.9,
          229,
          229.3,
          230,
          230.1,
          229.4,
          230.7,
          232,
          233.9,
          235.7,
          234.6,
          234.6,
          235.6,
          237.4,
          237.9,
          239,
          239.2,
          239.7,
          241.5,
          242,
          240.7,
          242.4,
          242.7,
          243.2,
          246.9,
          248.4,
          248,
          248.9,
          249.7,
          249.5,
          252.3,
          255.2,
          258.9,
          261.9,
          263.1,
          264,
          265.6,
          266.2,
          266.1,
          266.2,
          266.9,
          268,
          267.1,
          268.7,
          271,
          272.4,
          273,
          273.1,
          276.7,
          278.1,
          279.9,
          281.8,
          282.3,
          286.2,
          290.4,
          300.3,
          304.4,
          307.1,
          310,
          312.8,
          315.5,
          322.3,
          327.9,
          332.9,
          334.8,
          336.5,
          334.5,
          336,
          339.8,
          344.5,
          345.1,
          346.9,
          349.6,
          353.6,
          356.2,
          357.9,
          356.8,
          360.9,
          362.9,
          363.8,
          365.3,
          364.1,
          361.7,
          362.6,
          362.6,
          365.3,
          365.5,
          366.7,
          363.4,
          367.7,
          371.2,
          374.1,
          377.6,
          379.5,
          379.9,
          380.9,
          383.3,
          384.6,
          384.6,
          386,
          387.1,
          391,
          395.1,
          398.2,
          398.1,
          400.1,
          397.2,
          396.6,
          399.6,
          400.7,
          402,
          402.2,
          403.3,
          409.9,
          410.7,
          411.5,
          411.3,
          413.5,
          412.4,
          413.8,
          415.2,
          415.2,
          416.7,
          418.9,
          415.9,
          418.7,
          419.7,
          421,
          421.3,
          422.8,
          422.1,
          423.1,
          422.6,
          423.2,
          421,
          422.3,
          419.3,
          422.1,
          426.4,
          427,
          428.2,
          429.3,
          430,
          432.3,
          430.6,
          430.9,
          429.4,
          430.8,
          428.3,
          431.2,
          432.8,
          433.7,
          435.5,
          436.3,
          434.9,
          436.4,
          438.5,
          438.5,
          438.4,
          439,
          436.5,
          439.6,
          439.9,
          442.1,
          443,
          443,
          442.9,
          444,
          444.6,
          446.7,
          446,
          447.2,
          446.8,
          449.5,
          452,
          452.2,
          451.8,
          454.6,
          454.8,
          455.7,
          456.8,
          459.4,
          460.5,
          463.9,
          462,
          462.9,
          465.3,
          467,
          468,
          469.8,
          468.8,
          470.1,
          470.5,
          472.2,
          472.8,
          473.3,
          469.8,
          474.1,
          475.2,
          477.5,
          480.1,
          482.2,
          482.9,
          485.1,
          487,
          489.1,
          489.3,
          490.3,
          490,
          493.4,
          495.8,
          499.3,
          501.4,
          502.7,
          503.5,
          505.8,
          508.2,
          511.2,
          513,
          515.3,
          517.9,
          523.9,
          528.8,
          535.4,
          539.5,
          547.1,
          553.5,
          555.1,
          555.6,
          559.3,
          560.9,
          564.6,
          569.4,
          577.3,
          580.7,
          588.3,
          590.6,
          595.6,
          595.8,
          597.8,
          599.9,
          603.5,
          605.8,
          608.3,
          607.3,
          615.4,
          620.3,
          623.7,
          627.3,
          630.3,
          633.2,
          633.8,
          632.3,
          634.1,
          634.7,
          637.2,
          635.5,
          641.3,
          643.7
         ],
         "yaxis": "y"
        }
       ],
       "layout": {
        "legend": {
         "tracegroupgap": 0
        },
        "template": {
         "data": {
          "bar": [
           {
            "error_x": {
             "color": "#2a3f5f"
            },
            "error_y": {
             "color": "#2a3f5f"
            },
            "marker": {
             "line": {
              "color": "white",
              "width": 0.5
             },
             "pattern": {
              "fillmode": "overlay",
              "size": 10,
              "solidity": 0.2
             }
            },
            "type": "bar"
           }
          ],
          "barpolar": [
           {
            "marker": {
             "line": {
              "color": "white",
              "width": 0.5
             },
             "pattern": {
              "fillmode": "overlay",
              "size": 10,
              "solidity": 0.2
             }
            },
            "type": "barpolar"
           }
          ],
          "carpet": [
           {
            "aaxis": {
             "endlinecolor": "#2a3f5f",
             "gridcolor": "#C8D4E3",
             "linecolor": "#C8D4E3",
             "minorgridcolor": "#C8D4E3",
             "startlinecolor": "#2a3f5f"
            },
            "baxis": {
             "endlinecolor": "#2a3f5f",
             "gridcolor": "#C8D4E3",
             "linecolor": "#C8D4E3",
             "minorgridcolor": "#C8D4E3",
             "startlinecolor": "#2a3f5f"
            },
            "type": "carpet"
           }
          ],
          "choropleth": [
           {
            "colorbar": {
             "outlinewidth": 0,
             "ticks": ""
            },
            "type": "choropleth"
           }
          ],
          "contour": [
           {
            "colorbar": {
             "outlinewidth": 0,
             "ticks": ""
            },
            "colorscale": [
             [
              0,
              "#0d0887"
             ],
             [
              0.1111111111111111,
              "#46039f"
             ],
             [
              0.2222222222222222,
              "#7201a8"
             ],
             [
              0.3333333333333333,
              "#9c179e"
             ],
             [
              0.4444444444444444,
              "#bd3786"
             ],
             [
              0.5555555555555556,
              "#d8576b"
             ],
             [
              0.6666666666666666,
              "#ed7953"
             ],
             [
              0.7777777777777778,
              "#fb9f3a"
             ],
             [
              0.8888888888888888,
              "#fdca26"
             ],
             [
              1,
              "#f0f921"
             ]
            ],
            "type": "contour"
           }
          ],
          "contourcarpet": [
           {
            "colorbar": {
             "outlinewidth": 0,
             "ticks": ""
            },
            "type": "contourcarpet"
           }
          ],
          "heatmap": [
           {
            "colorbar": {
             "outlinewidth": 0,
             "ticks": ""
            },
            "colorscale": [
             [
              0,
              "#0d0887"
             ],
             [
              0.1111111111111111,
              "#46039f"
             ],
             [
              0.2222222222222222,
              "#7201a8"
             ],
             [
              0.3333333333333333,
              "#9c179e"
             ],
             [
              0.4444444444444444,
              "#bd3786"
             ],
             [
              0.5555555555555556,
              "#d8576b"
             ],
             [
              0.6666666666666666,
              "#ed7953"
             ],
             [
              0.7777777777777778,
              "#fb9f3a"
             ],
             [
              0.8888888888888888,
              "#fdca26"
             ],
             [
              1,
              "#f0f921"
             ]
            ],
            "type": "heatmap"
           }
          ],
          "heatmapgl": [
           {
            "colorbar": {
             "outlinewidth": 0,
             "ticks": ""
            },
            "colorscale": [
             [
              0,
              "#0d0887"
             ],
             [
              0.1111111111111111,
              "#46039f"
             ],
             [
              0.2222222222222222,
              "#7201a8"
             ],
             [
              0.3333333333333333,
              "#9c179e"
             ],
             [
              0.4444444444444444,
              "#bd3786"
             ],
             [
              0.5555555555555556,
              "#d8576b"
             ],
             [
              0.6666666666666666,
              "#ed7953"
             ],
             [
              0.7777777777777778,
              "#fb9f3a"
             ],
             [
              0.8888888888888888,
              "#fdca26"
             ],
             [
              1,
              "#f0f921"
             ]
            ],
            "type": "heatmapgl"
           }
          ],
          "histogram": [
           {
            "marker": {
             "pattern": {
              "fillmode": "overlay",
              "size": 10,
              "solidity": 0.2
             }
            },
            "type": "histogram"
           }
          ],
          "histogram2d": [
           {
            "colorbar": {
             "outlinewidth": 0,
             "ticks": ""
            },
            "colorscale": [
             [
              0,
              "#0d0887"
             ],
             [
              0.1111111111111111,
              "#46039f"
             ],
             [
              0.2222222222222222,
              "#7201a8"
             ],
             [
              0.3333333333333333,
              "#9c179e"
             ],
             [
              0.4444444444444444,
              "#bd3786"
             ],
             [
              0.5555555555555556,
              "#d8576b"
             ],
             [
              0.6666666666666666,
              "#ed7953"
             ],
             [
              0.7777777777777778,
              "#fb9f3a"
             ],
             [
              0.8888888888888888,
              "#fdca26"
             ],
             [
              1,
              "#f0f921"
             ]
            ],
            "type": "histogram2d"
           }
          ],
          "histogram2dcontour": [
           {
            "colorbar": {
             "outlinewidth": 0,
             "ticks": ""
            },
            "colorscale": [
             [
              0,
              "#0d0887"
             ],
             [
              0.1111111111111111,
              "#46039f"
             ],
             [
              0.2222222222222222,
              "#7201a8"
             ],
             [
              0.3333333333333333,
              "#9c179e"
             ],
             [
              0.4444444444444444,
              "#bd3786"
             ],
             [
              0.5555555555555556,
              "#d8576b"
             ],
             [
              0.6666666666666666,
              "#ed7953"
             ],
             [
              0.7777777777777778,
              "#fb9f3a"
             ],
             [
              0.8888888888888888,
              "#fdca26"
             ],
             [
              1,
              "#f0f921"
             ]
            ],
            "type": "histogram2dcontour"
           }
          ],
          "mesh3d": [
           {
            "colorbar": {
             "outlinewidth": 0,
             "ticks": ""
            },
            "type": "mesh3d"
           }
          ],
          "parcoords": [
           {
            "line": {
             "colorbar": {
              "outlinewidth": 0,
              "ticks": ""
             }
            },
            "type": "parcoords"
           }
          ],
          "pie": [
           {
            "automargin": true,
            "type": "pie"
           }
          ],
          "scatter": [
           {
            "fillpattern": {
             "fillmode": "overlay",
             "size": 10,
             "solidity": 0.2
            },
            "type": "scatter"
           }
          ],
          "scatter3d": [
           {
            "line": {
             "colorbar": {
              "outlinewidth": 0,
              "ticks": ""
             }
            },
            "marker": {
             "colorbar": {
              "outlinewidth": 0,
              "ticks": ""
             }
            },
            "type": "scatter3d"
           }
          ],
          "scattercarpet": [
           {
            "marker": {
             "colorbar": {
              "outlinewidth": 0,
              "ticks": ""
             }
            },
            "type": "scattercarpet"
           }
          ],
          "scattergeo": [
           {
            "marker": {
             "colorbar": {
              "outlinewidth": 0,
              "ticks": ""
             }
            },
            "type": "scattergeo"
           }
          ],
          "scattergl": [
           {
            "marker": {
             "colorbar": {
              "outlinewidth": 0,
              "ticks": ""
             }
            },
            "type": "scattergl"
           }
          ],
          "scattermapbox": [
           {
            "marker": {
             "colorbar": {
              "outlinewidth": 0,
              "ticks": ""
             }
            },
            "type": "scattermapbox"
           }
          ],
          "scatterpolar": [
           {
            "marker": {
             "colorbar": {
              "outlinewidth": 0,
              "ticks": ""
             }
            },
            "type": "scatterpolar"
           }
          ],
          "scatterpolargl": [
           {
            "marker": {
             "colorbar": {
              "outlinewidth": 0,
              "ticks": ""
             }
            },
            "type": "scatterpolargl"
           }
          ],
          "scatterternary": [
           {
            "marker": {
             "colorbar": {
              "outlinewidth": 0,
              "ticks": ""
             }
            },
            "type": "scatterternary"
           }
          ],
          "surface": [
           {
            "colorbar": {
             "outlinewidth": 0,
             "ticks": ""
            },
            "colorscale": [
             [
              0,
              "#0d0887"
             ],
             [
              0.1111111111111111,
              "#46039f"
             ],
             [
              0.2222222222222222,
              "#7201a8"
             ],
             [
              0.3333333333333333,
              "#9c179e"
             ],
             [
              0.4444444444444444,
              "#bd3786"
             ],
             [
              0.5555555555555556,
              "#d8576b"
             ],
             [
              0.6666666666666666,
              "#ed7953"
             ],
             [
              0.7777777777777778,
              "#fb9f3a"
             ],
             [
              0.8888888888888888,
              "#fdca26"
             ],
             [
              1,
              "#f0f921"
             ]
            ],
            "type": "surface"
           }
          ],
          "table": [
           {
            "cells": {
             "fill": {
              "color": "#EBF0F8"
             },
             "line": {
              "color": "white"
             }
            },
            "header": {
             "fill": {
              "color": "#C8D4E3"
             },
             "line": {
              "color": "white"
             }
            },
            "type": "table"
           }
          ]
         },
         "layout": {
          "annotationdefaults": {
           "arrowcolor": "#2a3f5f",
           "arrowhead": 0,
           "arrowwidth": 1
          },
          "autotypenumbers": "strict",
          "coloraxis": {
           "colorbar": {
            "outlinewidth": 0,
            "ticks": ""
           }
          },
          "colorscale": {
           "diverging": [
            [
             0,
             "#8e0152"
            ],
            [
             0.1,
             "#c51b7d"
            ],
            [
             0.2,
             "#de77ae"
            ],
            [
             0.3,
             "#f1b6da"
            ],
            [
             0.4,
             "#fde0ef"
            ],
            [
             0.5,
             "#f7f7f7"
            ],
            [
             0.6,
             "#e6f5d0"
            ],
            [
             0.7,
             "#b8e186"
            ],
            [
             0.8,
             "#7fbc41"
            ],
            [
             0.9,
             "#4d9221"
            ],
            [
             1,
             "#276419"
            ]
           ],
           "sequential": [
            [
             0,
             "#0d0887"
            ],
            [
             0.1111111111111111,
             "#46039f"
            ],
            [
             0.2222222222222222,
             "#7201a8"
            ],
            [
             0.3333333333333333,
             "#9c179e"
            ],
            [
             0.4444444444444444,
             "#bd3786"
            ],
            [
             0.5555555555555556,
             "#d8576b"
            ],
            [
             0.6666666666666666,
             "#ed7953"
            ],
            [
             0.7777777777777778,
             "#fb9f3a"
            ],
            [
             0.8888888888888888,
             "#fdca26"
            ],
            [
             1,
             "#f0f921"
            ]
           ],
           "sequentialminus": [
            [
             0,
             "#0d0887"
            ],
            [
             0.1111111111111111,
             "#46039f"
            ],
            [
             0.2222222222222222,
             "#7201a8"
            ],
            [
             0.3333333333333333,
             "#9c179e"
            ],
            [
             0.4444444444444444,
             "#bd3786"
            ],
            [
             0.5555555555555556,
             "#d8576b"
            ],
            [
             0.6666666666666666,
             "#ed7953"
            ],
            [
             0.7777777777777778,
             "#fb9f3a"
            ],
            [
             0.8888888888888888,
             "#fdca26"
            ],
            [
             1,
             "#f0f921"
            ]
           ]
          },
          "colorway": [
           "#636efa",
           "#EF553B",
           "#00cc96",
           "#ab63fa",
           "#FFA15A",
           "#19d3f3",
           "#FF6692",
           "#B6E880",
           "#FF97FF",
           "#FECB52"
          ],
          "font": {
           "color": "#2a3f5f"
          },
          "geo": {
           "bgcolor": "white",
           "lakecolor": "white",
           "landcolor": "white",
           "showlakes": true,
           "showland": true,
           "subunitcolor": "#C8D4E3"
          },
          "hoverlabel": {
           "align": "left"
          },
          "hovermode": "closest",
          "mapbox": {
           "style": "light"
          },
          "paper_bgcolor": "white",
          "plot_bgcolor": "white",
          "polar": {
           "angularaxis": {
            "gridcolor": "#EBF0F8",
            "linecolor": "#EBF0F8",
            "ticks": ""
           },
           "bgcolor": "white",
           "radialaxis": {
            "gridcolor": "#EBF0F8",
            "linecolor": "#EBF0F8",
            "ticks": ""
           }
          },
          "scene": {
           "xaxis": {
            "backgroundcolor": "white",
            "gridcolor": "#DFE8F3",
            "gridwidth": 2,
            "linecolor": "#EBF0F8",
            "showbackground": true,
            "ticks": "",
            "zerolinecolor": "#EBF0F8"
           },
           "yaxis": {
            "backgroundcolor": "white",
            "gridcolor": "#DFE8F3",
            "gridwidth": 2,
            "linecolor": "#EBF0F8",
            "showbackground": true,
            "ticks": "",
            "zerolinecolor": "#EBF0F8"
           },
           "zaxis": {
            "backgroundcolor": "white",
            "gridcolor": "#DFE8F3",
            "gridwidth": 2,
            "linecolor": "#EBF0F8",
            "showbackground": true,
            "ticks": "",
            "zerolinecolor": "#EBF0F8"
           }
          },
          "shapedefaults": {
           "line": {
            "color": "#2a3f5f"
           }
          },
          "ternary": {
           "aaxis": {
            "gridcolor": "#DFE8F3",
            "linecolor": "#A2B1C6",
            "ticks": ""
           },
           "baxis": {
            "gridcolor": "#DFE8F3",
            "linecolor": "#A2B1C6",
            "ticks": ""
           },
           "bgcolor": "white",
           "caxis": {
            "gridcolor": "#DFE8F3",
            "linecolor": "#A2B1C6",
            "ticks": ""
           }
          },
          "title": {
           "x": 0.05
          },
          "xaxis": {
           "automargin": true,
           "gridcolor": "#EBF0F8",
           "linecolor": "#EBF0F8",
           "ticks": "",
           "title": {
            "standoff": 15
           },
           "zerolinecolor": "#EBF0F8",
           "zerolinewidth": 2
          },
          "yaxis": {
           "automargin": true,
           "gridcolor": "#EBF0F8",
           "linecolor": "#EBF0F8",
           "ticks": "",
           "title": {
            "standoff": 15
           },
           "zerolinecolor": "#EBF0F8",
           "zerolinewidth": 2
          }
         }
        },
        "title": {
         "text": "Consumer price index Index in Iceland",
         "x": 0.5
        },
        "xaxis": {
         "anchor": "y",
         "domain": [
          0,
          1
         ],
         "title": {
          "text": "Month"
         }
        },
        "yaxis": {
         "anchor": "x",
         "domain": [
          0,
          1
         ],
         "title": {
          "text": ""
         }
        }
       }
      }
     },
     "metadata": {},
     "output_type": "display_data"
    }
   ],
   "source": [
    "def charts_consumerPriceIndex(variation:str)->go.Figure:\n",
    "    return (\n",
    "        pd.read_sql_query('SELECT * FROM CPI', conn)\n",
    "        .plot(x = 'Month', y = variation, title = f\"{variation} in Iceland\", kind='line', markers=True, template='plotly_white')\n",
    "        .update_layout(title_x = 0.5)\n",
    "        .update_yaxes(title_text = '')\n",
    "    )\n",
    "charts_consumerPriceIndex(variation = 'Consumer price index Index')"
   ]
  },
  {
   "cell_type": "code",
   "execution_count": 18,
   "metadata": {},
   "outputs": [
    {
     "name": "stderr",
     "output_type": "stream",
     "text": [
      "C:\\Users\\andnolan\\AppData\\Local\\Temp\\3\\ipykernel_3312\\891832913.py:3: PerformanceWarning:\n",
      "\n",
      "indexing past lexsort depth may impact performance.\n",
      "\n"
     ]
    },
    {
     "data": {
      "application/vnd.plotly.v1+json": {
       "config": {
        "plotlyServerURL": "https://plot.ly"
       },
       "data": [
        {
         "fillpattern": {
          "shape": ""
         },
         "hovertemplate": "sector=A. Agriculture, forestry and fishing<br>time=%{x}<br>Number of Jobs=%{y}<extra></extra>",
         "legendgroup": "A. Agriculture, forestry and fishing",
         "line": {
          "color": "#636efa"
         },
         "marker": {
          "symbol": "circle"
         },
         "mode": "lines",
         "name": "A. Agriculture, forestry and fishing",
         "orientation": "v",
         "showlegend": true,
         "stackgroup": "1",
         "type": "scatter",
         "x": [
          "1991Q1",
          "1991Q2",
          "1991Q3",
          "1991Q4",
          "1992Q1",
          "1992Q2",
          "1992Q3",
          "1992Q4",
          "1993Q1",
          "1993Q2",
          "1993Q3",
          "1993Q4",
          "1994Q1",
          "1994Q2",
          "1994Q3",
          "1994Q4",
          "1995Q1",
          "1995Q2",
          "1995Q3",
          "1995Q4",
          "1996Q1",
          "1996Q2",
          "1996Q3",
          "1996Q4",
          "1997Q1",
          "1997Q2",
          "1997Q3",
          "1997Q4",
          "1998Q1",
          "1998Q2",
          "1998Q3",
          "1998Q4",
          "1999Q1",
          "1999Q2",
          "1999Q3",
          "1999Q4",
          "2000Q1",
          "2000Q2",
          "2000Q3",
          "2000Q4",
          "2001Q1",
          "2001Q2",
          "2001Q3",
          "2001Q4",
          "2002Q1",
          "2002Q2",
          "2002Q3",
          "2002Q4",
          "2003Q1",
          "2003Q2",
          "2003Q3",
          "2003Q4",
          "2004Q1",
          "2004Q2",
          "2004Q3",
          "2004Q4",
          "2005Q1",
          "2005Q2",
          "2005Q3",
          "2005Q4",
          "2006Q1",
          "2006Q2",
          "2006Q3",
          "2006Q4",
          "2007Q1",
          "2007Q2",
          "2007Q3",
          "2007Q4",
          "2008Q1",
          "2008Q2",
          "2008Q3",
          "2008Q4",
          "2009Q1",
          "2009Q2",
          "2009Q3",
          "2009Q4",
          "2010Q1",
          "2010Q2",
          "2010Q3",
          "2010Q4",
          "2011Q1",
          "2011Q2",
          "2011Q3",
          "2011Q4",
          "2012Q1",
          "2012Q2",
          "2012Q3",
          "2012Q4",
          "2013Q1",
          "2013Q2",
          "2013Q3",
          "2013Q4",
          "2014Q1",
          "2014Q2",
          "2014Q3",
          "2014Q4",
          "2015Q1",
          "2015Q2",
          "2015Q3",
          "2015Q4",
          "2016Q1",
          "2016Q2",
          "2016Q3",
          "2016Q4",
          "2017Q1",
          "2017Q2",
          "2017Q3",
          "2017Q4",
          "2018Q1",
          "2018Q2",
          "2018Q3",
          "2018Q4",
          "2019Q1",
          "2019Q2",
          "2019Q3",
          "2019Q4",
          "2020Q1",
          "2020Q2",
          "2020Q3",
          "2020Q4",
          "2021Q1",
          "2021Q2",
          "2021Q3",
          "2021Q4",
          "2022Q1",
          "2022Q2",
          "2022Q3",
          "2022Q4",
          "2023Q1",
          "2023Q2",
          "2023Q3",
          "2023Q4",
          "2024Q1",
          "2024Q2",
          "2024Q3",
          "2024Q4"
         ],
         "xaxis": "x",
         "y": [
          13200,
          14000,
          14000,
          13700,
          13500,
          14200,
          14200,
          13900,
          13000,
          13700,
          13600,
          13300,
          12900,
          13600,
          13600,
          13300,
          13100,
          13800,
          13700,
          13500,
          12900,
          13600,
          13500,
          13200,
          12400,
          13000,
          13000,
          12700,
          12000,
          12900,
          12800,
          12600,
          12100,
          12800,
          12600,
          12500,
          11600,
          12200,
          12000,
          11700,
          11000,
          11300,
          11500,
          11100,
          10400,
          10800,
          10700,
          10400,
          9900,
          10300,
          10300,
          10000,
          9300,
          9700,
          9700,
          9800,
          9800,
          10300,
          10100,
          10000,
          9600,
          10200,
          10000,
          9800,
          9200,
          9700,
          9500,
          9100,
          8500,
          9000,
          8600,
          8800,
          8400,
          9300,
          9100,
          9000,
          8400,
          9200,
          9300,
          9000,
          8500,
          9300,
          9400,
          9200,
          8700,
          9600,
          9500,
          9200,
          8700,
          9400,
          9500,
          9100,
          8500,
          9100,
          9200,
          8900,
          8300,
          8900,
          9100,
          8800,
          8200,
          8800,
          8800,
          8400,
          7200,
          8400,
          8400,
          8100,
          7700,
          8300,
          8500,
          8200,
          7700,
          8300,
          8400,
          8100,
          7300,
          7800,
          7900,
          7800,
          7500,
          8000,
          8100,
          7900,
          7500,
          8000,
          8100,
          8000,
          7600,
          7900,
          7800,
          7600,
          7600,
          8200,
          8100,
          8000
         ],
         "yaxis": "y"
        },
        {
         "fillpattern": {
          "shape": ""
         },
         "hovertemplate": "sector=B-E. Mining and quarrying; manufacturing; electricity, gas, steam and air conditioning supply; water supply; sewerage, waste management and remediation activities<br>time=%{x}<br>Number of Jobs=%{y}<extra></extra>",
         "legendgroup": "B-E. Mining and quarrying; manufacturing; electricity, gas, steam and air conditioning supply; water supply; sewerage, waste management and remediation activities",
         "line": {
          "color": "#EF553B"
         },
         "marker": {
          "symbol": "circle"
         },
         "mode": "lines",
         "name": "B-E. Mining and quarrying; manufacturing; electricity, gas, steam and air conditioning supply; water supply; sewerage, waste management and remediation activities",
         "orientation": "v",
         "showlegend": true,
         "stackgroup": "1",
         "type": "scatter",
         "x": [
          "1991Q1",
          "1991Q2",
          "1991Q3",
          "1991Q4",
          "1992Q1",
          "1992Q2",
          "1992Q3",
          "1992Q4",
          "1993Q1",
          "1993Q2",
          "1993Q3",
          "1993Q4",
          "1994Q1",
          "1994Q2",
          "1994Q3",
          "1994Q4",
          "1995Q1",
          "1995Q2",
          "1995Q3",
          "1995Q4",
          "1996Q1",
          "1996Q2",
          "1996Q3",
          "1996Q4",
          "1997Q1",
          "1997Q2",
          "1997Q3",
          "1997Q4",
          "1998Q1",
          "1998Q2",
          "1998Q3",
          "1998Q4",
          "1999Q1",
          "1999Q2",
          "1999Q3",
          "1999Q4",
          "2000Q1",
          "2000Q2",
          "2000Q3",
          "2000Q4",
          "2001Q1",
          "2001Q2",
          "2001Q3",
          "2001Q4",
          "2002Q1",
          "2002Q2",
          "2002Q3",
          "2002Q4",
          "2003Q1",
          "2003Q2",
          "2003Q3",
          "2003Q4",
          "2004Q1",
          "2004Q2",
          "2004Q3",
          "2004Q4",
          "2005Q1",
          "2005Q2",
          "2005Q3",
          "2005Q4",
          "2006Q1",
          "2006Q2",
          "2006Q3",
          "2006Q4",
          "2007Q1",
          "2007Q2",
          "2007Q3",
          "2007Q4",
          "2008Q1",
          "2008Q2",
          "2008Q3",
          "2008Q4",
          "2009Q1",
          "2009Q2",
          "2009Q3",
          "2009Q4",
          "2010Q1",
          "2010Q2",
          "2010Q3",
          "2010Q4",
          "2011Q1",
          "2011Q2",
          "2011Q3",
          "2011Q4",
          "2012Q1",
          "2012Q2",
          "2012Q3",
          "2012Q4",
          "2013Q1",
          "2013Q2",
          "2013Q3",
          "2013Q4",
          "2014Q1",
          "2014Q2",
          "2014Q3",
          "2014Q4",
          "2015Q1",
          "2015Q2",
          "2015Q3",
          "2015Q4",
          "2016Q1",
          "2016Q2",
          "2016Q3",
          "2016Q4",
          "2017Q1",
          "2017Q2",
          "2017Q3",
          "2017Q4",
          "2018Q1",
          "2018Q2",
          "2018Q3",
          "2018Q4",
          "2019Q1",
          "2019Q2",
          "2019Q3",
          "2019Q4",
          "2020Q1",
          "2020Q2",
          "2020Q3",
          "2020Q4",
          "2021Q1",
          "2021Q2",
          "2021Q3",
          "2021Q4",
          "2022Q1",
          "2022Q2",
          "2022Q3",
          "2022Q4",
          "2023Q1",
          "2023Q2",
          "2023Q3",
          "2023Q4",
          "2024Q1",
          "2024Q2",
          "2024Q3",
          "2024Q4"
         ],
         "xaxis": "x",
         "y": [
          25200,
          26300,
          26800,
          26000,
          24200,
          25300,
          25700,
          24900,
          24400,
          25500,
          26000,
          25400,
          25000,
          26200,
          26800,
          26200,
          24700,
          25800,
          26400,
          25900,
          24800,
          26000,
          26700,
          26100,
          25400,
          26600,
          27300,
          26700,
          24400,
          26100,
          26600,
          25500,
          23800,
          25200,
          25600,
          25100,
          23800,
          25000,
          25500,
          25500,
          23700,
          24300,
          25200,
          24400,
          22800,
          23900,
          24200,
          23300,
          22100,
          23500,
          24000,
          23500,
          22300,
          23900,
          24200,
          23700,
          23200,
          24500,
          24600,
          24000,
          23100,
          24500,
          24900,
          24600,
          23900,
          25300,
          25600,
          25200,
          24800,
          25900,
          25600,
          24400,
          22500,
          23700,
          24100,
          23300,
          22400,
          23800,
          24300,
          23400,
          22500,
          24400,
          25200,
          24200,
          23300,
          25100,
          25800,
          24600,
          23800,
          25400,
          26200,
          25100,
          24500,
          25800,
          26400,
          25300,
          24400,
          26200,
          26700,
          25800,
          25100,
          26600,
          27200,
          26200,
          24800,
          26500,
          27100,
          26100,
          25400,
          26800,
          27200,
          26300,
          25100,
          26400,
          26800,
          25700,
          24300,
          24800,
          25300,
          24200,
          23400,
          25100,
          25700,
          25200,
          24600,
          26100,
          26400,
          26300,
          25700,
          26900,
          27300,
          26900,
          25800,
          26900,
          27100,
          26500
         ],
         "yaxis": "y"
        },
        {
         "fillpattern": {
          "shape": ""
         },
         "hovertemplate": "sector=C. Manufacturing<br>time=%{x}<br>Number of Jobs=%{y}<extra></extra>",
         "legendgroup": "C. Manufacturing",
         "line": {
          "color": "#00cc96"
         },
         "marker": {
          "symbol": "circle"
         },
         "mode": "lines",
         "name": "C. Manufacturing",
         "orientation": "v",
         "showlegend": true,
         "stackgroup": "1",
         "type": "scatter",
         "x": [
          "1991Q1",
          "1991Q2",
          "1991Q3",
          "1991Q4",
          "1992Q1",
          "1992Q2",
          "1992Q3",
          "1992Q4",
          "1993Q1",
          "1993Q2",
          "1993Q3",
          "1993Q4",
          "1994Q1",
          "1994Q2",
          "1994Q3",
          "1994Q4",
          "1995Q1",
          "1995Q2",
          "1995Q3",
          "1995Q4",
          "1996Q1",
          "1996Q2",
          "1996Q3",
          "1996Q4",
          "1997Q1",
          "1997Q2",
          "1997Q3",
          "1997Q4",
          "1998Q1",
          "1998Q2",
          "1998Q3",
          "1998Q4",
          "1999Q1",
          "1999Q2",
          "1999Q3",
          "1999Q4",
          "2000Q1",
          "2000Q2",
          "2000Q3",
          "2000Q4",
          "2001Q1",
          "2001Q2",
          "2001Q3",
          "2001Q4",
          "2002Q1",
          "2002Q2",
          "2002Q3",
          "2002Q4",
          "2003Q1",
          "2003Q2",
          "2003Q3",
          "2003Q4",
          "2004Q1",
          "2004Q2",
          "2004Q3",
          "2004Q4",
          "2005Q1",
          "2005Q2",
          "2005Q3",
          "2005Q4",
          "2006Q1",
          "2006Q2",
          "2006Q3",
          "2006Q4",
          "2007Q1",
          "2007Q2",
          "2007Q3",
          "2007Q4",
          "2008Q1",
          "2008Q2",
          "2008Q3",
          "2008Q4",
          "2009Q1",
          "2009Q2",
          "2009Q3",
          "2009Q4",
          "2010Q1",
          "2010Q2",
          "2010Q3",
          "2010Q4",
          "2011Q1",
          "2011Q2",
          "2011Q3",
          "2011Q4",
          "2012Q1",
          "2012Q2",
          "2012Q3",
          "2012Q4",
          "2013Q1",
          "2013Q2",
          "2013Q3",
          "2013Q4",
          "2014Q1",
          "2014Q2",
          "2014Q3",
          "2014Q4",
          "2015Q1",
          "2015Q2",
          "2015Q3",
          "2015Q4",
          "2016Q1",
          "2016Q2",
          "2016Q3",
          "2016Q4",
          "2017Q1",
          "2017Q2",
          "2017Q3",
          "2017Q4",
          "2018Q1",
          "2018Q2",
          "2018Q3",
          "2018Q4",
          "2019Q1",
          "2019Q2",
          "2019Q3",
          "2019Q4",
          "2020Q1",
          "2020Q2",
          "2020Q3",
          "2020Q4",
          "2021Q1",
          "2021Q2",
          "2021Q3",
          "2021Q4",
          "2022Q1",
          "2022Q2",
          "2022Q3",
          "2022Q4",
          "2023Q1",
          "2023Q2",
          "2023Q3",
          "2023Q4",
          "2024Q1",
          "2024Q2",
          "2024Q3",
          "2024Q4"
         ],
         "xaxis": "x",
         "y": [
          23500,
          24500,
          24800,
          24300,
          22500,
          23500,
          23800,
          23300,
          22700,
          23700,
          24100,
          23700,
          23400,
          24400,
          24800,
          24500,
          23000,
          24000,
          24500,
          24200,
          23200,
          24300,
          24800,
          24500,
          23800,
          24900,
          25300,
          25000,
          22600,
          24200,
          24500,
          23600,
          22100,
          23200,
          23400,
          23200,
          22000,
          23000,
          23300,
          23500,
          21700,
          22100,
          22800,
          22300,
          20800,
          21700,
          21800,
          21200,
          19900,
          21200,
          21400,
          21200,
          20000,
          21400,
          21500,
          21200,
          20900,
          21900,
          21900,
          21600,
          20800,
          22000,
          22200,
          22200,
          21400,
          22600,
          22700,
          22500,
          22300,
          23100,
          22500,
          21800,
          20000,
          21000,
          21100,
          20800,
          20000,
          21100,
          21300,
          20900,
          20100,
          21800,
          22400,
          21800,
          20900,
          22400,
          23000,
          22200,
          21400,
          22800,
          23300,
          22700,
          22000,
          23100,
          23600,
          22700,
          21900,
          23400,
          23800,
          23100,
          22600,
          23700,
          24300,
          23600,
          22200,
          23600,
          24000,
          23300,
          22700,
          23800,
          24100,
          23500,
          22300,
          23300,
          23600,
          22900,
          21400,
          21800,
          22000,
          21300,
          20500,
          22000,
          22500,
          22300,
          21700,
          22900,
          23100,
          23300,
          22600,
          23500,
          23800,
          23600,
          22500,
          23400,
          23400,
          23100
         ],
         "yaxis": "y"
        },
        {
         "fillpattern": {
          "shape": ""
         },
         "hovertemplate": "sector=F. Construction<br>time=%{x}<br>Number of Jobs=%{y}<extra></extra>",
         "legendgroup": "F. Construction",
         "line": {
          "color": "#ab63fa"
         },
         "marker": {
          "symbol": "circle"
         },
         "mode": "lines",
         "name": "F. Construction",
         "orientation": "v",
         "showlegend": true,
         "stackgroup": "1",
         "type": "scatter",
         "x": [
          "1991Q1",
          "1991Q2",
          "1991Q3",
          "1991Q4",
          "1992Q1",
          "1992Q2",
          "1992Q3",
          "1992Q4",
          "1993Q1",
          "1993Q2",
          "1993Q3",
          "1993Q4",
          "1994Q1",
          "1994Q2",
          "1994Q3",
          "1994Q4",
          "1995Q1",
          "1995Q2",
          "1995Q3",
          "1995Q4",
          "1996Q1",
          "1996Q2",
          "1996Q3",
          "1996Q4",
          "1997Q1",
          "1997Q2",
          "1997Q3",
          "1997Q4",
          "1998Q1",
          "1998Q2",
          "1998Q3",
          "1998Q4",
          "1999Q1",
          "1999Q2",
          "1999Q3",
          "1999Q4",
          "2000Q1",
          "2000Q2",
          "2000Q3",
          "2000Q4",
          "2001Q1",
          "2001Q2",
          "2001Q3",
          "2001Q4",
          "2002Q1",
          "2002Q2",
          "2002Q3",
          "2002Q4",
          "2003Q1",
          "2003Q2",
          "2003Q3",
          "2003Q4",
          "2004Q1",
          "2004Q2",
          "2004Q3",
          "2004Q4",
          "2005Q1",
          "2005Q2",
          "2005Q3",
          "2005Q4",
          "2006Q1",
          "2006Q2",
          "2006Q3",
          "2006Q4",
          "2007Q1",
          "2007Q2",
          "2007Q3",
          "2007Q4",
          "2008Q1",
          "2008Q2",
          "2008Q3",
          "2008Q4",
          "2009Q1",
          "2009Q2",
          "2009Q3",
          "2009Q4",
          "2010Q1",
          "2010Q2",
          "2010Q3",
          "2010Q4",
          "2011Q1",
          "2011Q2",
          "2011Q3",
          "2011Q4",
          "2012Q1",
          "2012Q2",
          "2012Q3",
          "2012Q4",
          "2013Q1",
          "2013Q2",
          "2013Q3",
          "2013Q4",
          "2014Q1",
          "2014Q2",
          "2014Q3",
          "2014Q4",
          "2015Q1",
          "2015Q2",
          "2015Q3",
          "2015Q4",
          "2016Q1",
          "2016Q2",
          "2016Q3",
          "2016Q4",
          "2017Q1",
          "2017Q2",
          "2017Q3",
          "2017Q4",
          "2018Q1",
          "2018Q2",
          "2018Q3",
          "2018Q4",
          "2019Q1",
          "2019Q2",
          "2019Q3",
          "2019Q4",
          "2020Q1",
          "2020Q2",
          "2020Q3",
          "2020Q4",
          "2021Q1",
          "2021Q2",
          "2021Q3",
          "2021Q4",
          "2022Q1",
          "2022Q2",
          "2022Q3",
          "2022Q4",
          "2023Q1",
          "2023Q2",
          "2023Q3",
          "2023Q4",
          "2024Q1",
          "2024Q2",
          "2024Q3",
          "2024Q4"
         ],
         "xaxis": "x",
         "y": [
          6800,
          7900,
          8600,
          8500,
          6600,
          7600,
          8300,
          8300,
          6700,
          7700,
          8400,
          8400,
          7100,
          8100,
          8900,
          8800,
          7300,
          8200,
          9000,
          9000,
          6000,
          6800,
          7400,
          7500,
          8600,
          9500,
          10200,
          10100,
          7100,
          8200,
          8700,
          8100,
          7300,
          8400,
          9300,
          8900,
          7800,
          9300,
          10300,
          9900,
          8900,
          9800,
          10600,
          9700,
          8700,
          9700,
          10200,
          9600,
          8300,
          9300,
          10300,
          9900,
          8900,
          10100,
          10800,
          10800,
          11900,
          13700,
          14800,
          14800,
          15300,
          17900,
          19000,
          18700,
          19000,
          20800,
          21700,
          20100,
          18200,
          19000,
          18400,
          15500,
          11300,
          11200,
          11600,
          10600,
          9100,
          9800,
          10100,
          9400,
          8500,
          9200,
          9600,
          9000,
          8200,
          9200,
          9700,
          9300,
          8900,
          9700,
          10100,
          9800,
          9400,
          10300,
          10700,
          10600,
          10100,
          11100,
          11600,
          11400,
          11200,
          12600,
          13400,
          13300,
          13100,
          14400,
          15200,
          15200,
          14800,
          15800,
          16000,
          16000,
          15400,
          16300,
          16400,
          15700,
          14500,
          14800,
          15100,
          14900,
          14200,
          15600,
          16100,
          16100,
          15800,
          17400,
          18000,
          18300,
          17900,
          19300,
          19800,
          19500,
          18800,
          20200,
          20600,
          20200
         ],
         "yaxis": "y"
        },
        {
         "fillpattern": {
          "shape": ""
         },
         "hovertemplate": "sector=G-I. Wholesale and retail trade; repair of motor vehicles and motorcycles; transportation and storage; accommodation and food service activities<br>time=%{x}<br>Number of Jobs=%{y}<extra></extra>",
         "legendgroup": "G-I. Wholesale and retail trade; repair of motor vehicles and motorcycles; transportation and storage; accommodation and food service activities",
         "line": {
          "color": "#FFA15A"
         },
         "marker": {
          "symbol": "circle"
         },
         "mode": "lines",
         "name": "G-I. Wholesale and retail trade; repair of motor vehicles and motorcycles; transportation and storage; accommodation and food service activities",
         "orientation": "v",
         "showlegend": true,
         "stackgroup": "1",
         "type": "scatter",
         "x": [
          "1991Q1",
          "1991Q2",
          "1991Q3",
          "1991Q4",
          "1992Q1",
          "1992Q2",
          "1992Q3",
          "1992Q4",
          "1993Q1",
          "1993Q2",
          "1993Q3",
          "1993Q4",
          "1994Q1",
          "1994Q2",
          "1994Q3",
          "1994Q4",
          "1995Q1",
          "1995Q2",
          "1995Q3",
          "1995Q4",
          "1996Q1",
          "1996Q2",
          "1996Q3",
          "1996Q4",
          "1997Q1",
          "1997Q2",
          "1997Q3",
          "1997Q4",
          "1998Q1",
          "1998Q2",
          "1998Q3",
          "1998Q4",
          "1999Q1",
          "1999Q2",
          "1999Q3",
          "1999Q4",
          "2000Q1",
          "2000Q2",
          "2000Q3",
          "2000Q4",
          "2001Q1",
          "2001Q2",
          "2001Q3",
          "2001Q4",
          "2002Q1",
          "2002Q2",
          "2002Q3",
          "2002Q4",
          "2003Q1",
          "2003Q2",
          "2003Q3",
          "2003Q4",
          "2004Q1",
          "2004Q2",
          "2004Q3",
          "2004Q4",
          "2005Q1",
          "2005Q2",
          "2005Q3",
          "2005Q4",
          "2006Q1",
          "2006Q2",
          "2006Q3",
          "2006Q4",
          "2007Q1",
          "2007Q2",
          "2007Q3",
          "2007Q4",
          "2008Q1",
          "2008Q2",
          "2008Q3",
          "2008Q4",
          "2009Q1",
          "2009Q2",
          "2009Q3",
          "2009Q4",
          "2010Q1",
          "2010Q2",
          "2010Q3",
          "2010Q4",
          "2011Q1",
          "2011Q2",
          "2011Q3",
          "2011Q4",
          "2012Q1",
          "2012Q2",
          "2012Q3",
          "2012Q4",
          "2013Q1",
          "2013Q2",
          "2013Q3",
          "2013Q4",
          "2014Q1",
          "2014Q2",
          "2014Q3",
          "2014Q4",
          "2015Q1",
          "2015Q2",
          "2015Q3",
          "2015Q4",
          "2016Q1",
          "2016Q2",
          "2016Q3",
          "2016Q4",
          "2017Q1",
          "2017Q2",
          "2017Q3",
          "2017Q4",
          "2018Q1",
          "2018Q2",
          "2018Q3",
          "2018Q4",
          "2019Q1",
          "2019Q2",
          "2019Q3",
          "2019Q4",
          "2020Q1",
          "2020Q2",
          "2020Q3",
          "2020Q4",
          "2021Q1",
          "2021Q2",
          "2021Q3",
          "2021Q4",
          "2022Q1",
          "2022Q2",
          "2022Q3",
          "2022Q4",
          "2023Q1",
          "2023Q2",
          "2023Q3",
          "2023Q4",
          "2024Q1",
          "2024Q2",
          "2024Q3",
          "2024Q4"
         ],
         "xaxis": "x",
         "y": [
          32000,
          34000,
          35300,
          33900,
          32400,
          34500,
          35700,
          34300,
          32200,
          34400,
          35800,
          34400,
          30400,
          32299,
          34000,
          32800,
          31600,
          33500,
          35100,
          33800,
          32100,
          34100,
          35600,
          34400,
          32700,
          34600,
          36300,
          35100,
          32200,
          34800,
          36600,
          36000,
          34800,
          37400,
          39000,
          38800,
          36800,
          39100,
          40300,
          39700,
          36900,
          39300,
          39900,
          38600,
          34700,
          36800,
          38000,
          36400,
          33700,
          36200,
          37800,
          36600,
          34200,
          36400,
          38200,
          37500,
          39300,
          42300,
          43700,
          43000,
          41900,
          44800,
          46300,
          45800,
          43600,
          46200,
          47700,
          46400,
          46900,
          49200,
          49000,
          44600,
          40100,
          41800,
          43700,
          41800,
          39500,
          42600,
          44200,
          42100,
          40000,
          44200,
          46200,
          43900,
          42000,
          46200,
          48500,
          45800,
          44100,
          48000,
          50400,
          47600,
          46100,
          50400,
          52700,
          49900,
          48300,
          53700,
          56400,
          54000,
          52900,
          58600,
          62000,
          59900,
          57800,
          63500,
          65800,
          63000,
          59700,
          64400,
          66100,
          62900,
          59000,
          61800,
          62900,
          59600,
          55200,
          51000,
          51200,
          46500,
          45000,
          49900,
          56300,
          56300,
          54000,
          60800,
          63600,
          61900,
          59800,
          64900,
          66600,
          63600,
          60100,
          64400,
          65800,
          63200
         ],
         "yaxis": "y"
        },
        {
         "fillpattern": {
          "shape": ""
         },
         "hovertemplate": "sector=J. Information and communication<br>time=%{x}<br>Number of Jobs=%{y}<extra></extra>",
         "legendgroup": "J. Information and communication",
         "line": {
          "color": "#19d3f3"
         },
         "marker": {
          "symbol": "circle"
         },
         "mode": "lines",
         "name": "J. Information and communication",
         "orientation": "v",
         "showlegend": true,
         "stackgroup": "1",
         "type": "scatter",
         "x": [
          "1991Q1",
          "1991Q2",
          "1991Q3",
          "1991Q4",
          "1992Q1",
          "1992Q2",
          "1992Q3",
          "1992Q4",
          "1993Q1",
          "1993Q2",
          "1993Q3",
          "1993Q4",
          "1994Q1",
          "1994Q2",
          "1994Q3",
          "1994Q4",
          "1995Q1",
          "1995Q2",
          "1995Q3",
          "1995Q4",
          "1996Q1",
          "1996Q2",
          "1996Q3",
          "1996Q4",
          "1997Q1",
          "1997Q2",
          "1997Q3",
          "1997Q4",
          "1998Q1",
          "1998Q2",
          "1998Q3",
          "1998Q4",
          "1999Q1",
          "1999Q2",
          "1999Q3",
          "1999Q4",
          "2000Q1",
          "2000Q2",
          "2000Q3",
          "2000Q4",
          "2001Q1",
          "2001Q2",
          "2001Q3",
          "2001Q4",
          "2002Q1",
          "2002Q2",
          "2002Q3",
          "2002Q4",
          "2003Q1",
          "2003Q2",
          "2003Q3",
          "2003Q4",
          "2004Q1",
          "2004Q2",
          "2004Q3",
          "2004Q4",
          "2005Q1",
          "2005Q2",
          "2005Q3",
          "2005Q4",
          "2006Q1",
          "2006Q2",
          "2006Q3",
          "2006Q4",
          "2007Q1",
          "2007Q2",
          "2007Q3",
          "2007Q4",
          "2008Q1",
          "2008Q2",
          "2008Q3",
          "2008Q4",
          "2009Q1",
          "2009Q2",
          "2009Q3",
          "2009Q4",
          "2010Q1",
          "2010Q2",
          "2010Q3",
          "2010Q4",
          "2011Q1",
          "2011Q2",
          "2011Q3",
          "2011Q4",
          "2012Q1",
          "2012Q2",
          "2012Q3",
          "2012Q4",
          "2013Q1",
          "2013Q2",
          "2013Q3",
          "2013Q4",
          "2014Q1",
          "2014Q2",
          "2014Q3",
          "2014Q4",
          "2015Q1",
          "2015Q2",
          "2015Q3",
          "2015Q4",
          "2016Q1",
          "2016Q2",
          "2016Q3",
          "2016Q4",
          "2017Q1",
          "2017Q2",
          "2017Q3",
          "2017Q4",
          "2018Q1",
          "2018Q2",
          "2018Q3",
          "2018Q4",
          "2019Q1",
          "2019Q2",
          "2019Q3",
          "2019Q4",
          "2020Q1",
          "2020Q2",
          "2020Q3",
          "2020Q4",
          "2021Q1",
          "2021Q2",
          "2021Q3",
          "2021Q4",
          "2022Q1",
          "2022Q2",
          "2022Q3",
          "2022Q4",
          "2023Q1",
          "2023Q2",
          "2023Q3",
          "2023Q4",
          "2024Q1",
          "2024Q2",
          "2024Q3",
          "2024Q4"
         ],
         "xaxis": "x",
         "y": [
          6300,
          6400,
          6500,
          6300,
          6000,
          6100,
          6100,
          5900,
          5300,
          5400,
          5400,
          5300,
          5100,
          5200,
          5300,
          5300,
          6000,
          6200,
          6400,
          6300,
          6500,
          6700,
          6900,
          6800,
          6200,
          6400,
          6500,
          6500,
          6400,
          6800,
          6900,
          6900,
          7000,
          7400,
          7700,
          7700,
          8000,
          8400,
          8700,
          8600,
          8600,
          8800,
          8700,
          8100,
          7900,
          8000,
          8400,
          8200,
          8000,
          8300,
          8300,
          8100,
          8000,
          8300,
          8200,
          8200,
          7700,
          8100,
          8300,
          8000,
          8200,
          8500,
          8500,
          8400,
          8500,
          8600,
          8800,
          8700,
          9000,
          9200,
          9000,
          8600,
          8200,
          8200,
          8200,
          8200,
          8100,
          8200,
          8200,
          8300,
          8300,
          8500,
          8500,
          8300,
          8300,
          8400,
          8500,
          8400,
          8500,
          8600,
          8700,
          8800,
          8700,
          8800,
          8800,
          8800,
          8700,
          8900,
          9100,
          9100,
          9000,
          9200,
          9200,
          9200,
          9000,
          9100,
          9100,
          9100,
          9300,
          9500,
          9400,
          9400,
          9000,
          9000,
          9000,
          9000,
          9000,
          8700,
          8700,
          8900,
          8900,
          9100,
          9300,
          9600,
          9700,
          9900,
          10000,
          10200,
          10200,
          10100,
          10000,
          10100,
          10000,
          10100,
          10000,
          10000
         ],
         "yaxis": "y"
        },
        {
         "fillpattern": {
          "shape": ""
         },
         "hovertemplate": "sector=K. Financial and insurance activities<br>time=%{x}<br>Number of Jobs=%{y}<extra></extra>",
         "legendgroup": "K. Financial and insurance activities",
         "line": {
          "color": "#FF6692"
         },
         "marker": {
          "symbol": "circle"
         },
         "mode": "lines",
         "name": "K. Financial and insurance activities",
         "orientation": "v",
         "showlegend": true,
         "stackgroup": "1",
         "type": "scatter",
         "x": [
          "1991Q1",
          "1991Q2",
          "1991Q3",
          "1991Q4",
          "1992Q1",
          "1992Q2",
          "1992Q3",
          "1992Q4",
          "1993Q1",
          "1993Q2",
          "1993Q3",
          "1993Q4",
          "1994Q1",
          "1994Q2",
          "1994Q3",
          "1994Q4",
          "1995Q1",
          "1995Q2",
          "1995Q3",
          "1995Q4",
          "1996Q1",
          "1996Q2",
          "1996Q3",
          "1996Q4",
          "1997Q1",
          "1997Q2",
          "1997Q3",
          "1997Q4",
          "1998Q1",
          "1998Q2",
          "1998Q3",
          "1998Q4",
          "1999Q1",
          "1999Q2",
          "1999Q3",
          "1999Q4",
          "2000Q1",
          "2000Q2",
          "2000Q3",
          "2000Q4",
          "2001Q1",
          "2001Q2",
          "2001Q3",
          "2001Q4",
          "2002Q1",
          "2002Q2",
          "2002Q3",
          "2002Q4",
          "2003Q1",
          "2003Q2",
          "2003Q3",
          "2003Q4",
          "2004Q1",
          "2004Q2",
          "2004Q3",
          "2004Q4",
          "2005Q1",
          "2005Q2",
          "2005Q3",
          "2005Q4",
          "2006Q1",
          "2006Q2",
          "2006Q3",
          "2006Q4",
          "2007Q1",
          "2007Q2",
          "2007Q3",
          "2007Q4",
          "2008Q1",
          "2008Q2",
          "2008Q3",
          "2008Q4",
          "2009Q1",
          "2009Q2",
          "2009Q3",
          "2009Q4",
          "2010Q1",
          "2010Q2",
          "2010Q3",
          "2010Q4",
          "2011Q1",
          "2011Q2",
          "2011Q3",
          "2011Q4",
          "2012Q1",
          "2012Q2",
          "2012Q3",
          "2012Q4",
          "2013Q1",
          "2013Q2",
          "2013Q3",
          "2013Q4",
          "2014Q1",
          "2014Q2",
          "2014Q3",
          "2014Q4",
          "2015Q1",
          "2015Q2",
          "2015Q3",
          "2015Q4",
          "2016Q1",
          "2016Q2",
          "2016Q3",
          "2016Q4",
          "2017Q1",
          "2017Q2",
          "2017Q3",
          "2017Q4",
          "2018Q1",
          "2018Q2",
          "2018Q3",
          "2018Q4",
          "2019Q1",
          "2019Q2",
          "2019Q3",
          "2019Q4",
          "2020Q1",
          "2020Q2",
          "2020Q3",
          "2020Q4",
          "2021Q1",
          "2021Q2",
          "2021Q3",
          "2021Q4",
          "2022Q1",
          "2022Q2",
          "2022Q3",
          "2022Q4",
          "2023Q1",
          "2023Q2",
          "2023Q3",
          "2023Q4",
          "2024Q1",
          "2024Q2",
          "2024Q3",
          "2024Q4"
         ],
         "xaxis": "x",
         "y": [
          5400,
          5500,
          5600,
          5400,
          5500,
          5700,
          5700,
          5500,
          5500,
          5600,
          5700,
          5400,
          5100,
          5200,
          5200,
          5000,
          5200,
          5300,
          5300,
          5100,
          4700,
          4800,
          4900,
          4700,
          4500,
          4600,
          4700,
          4600,
          6200,
          6600,
          6700,
          6400,
          6400,
          6900,
          7200,
          6900,
          6900,
          7400,
          7700,
          7300,
          6700,
          7100,
          7300,
          6900,
          6600,
          7000,
          7200,
          6800,
          6000,
          6300,
          6400,
          6200,
          6100,
          6500,
          6700,
          6600,
          6600,
          7000,
          7200,
          7000,
          7100,
          7400,
          7600,
          7500,
          7700,
          8300,
          8500,
          8400,
          8700,
          9100,
          8900,
          8900,
          7900,
          7800,
          7700,
          8100,
          7600,
          7900,
          7900,
          7600,
          7100,
          7600,
          7500,
          7300,
          7100,
          7400,
          7400,
          7000,
          6900,
          7200,
          7200,
          6900,
          6800,
          7000,
          7000,
          6700,
          6500,
          6700,
          6700,
          6400,
          6400,
          6700,
          6700,
          6500,
          6300,
          6500,
          6600,
          6300,
          6200,
          6500,
          6500,
          6300,
          6100,
          6300,
          6300,
          6100,
          5900,
          6000,
          5900,
          5900,
          5700,
          5900,
          5900,
          5800,
          5700,
          5900,
          5900,
          5900,
          5900,
          6100,
          6100,
          6100,
          6000,
          6300,
          6300,
          6300
         ],
         "yaxis": "y"
        },
        {
         "fillpattern": {
          "shape": ""
         },
         "hovertemplate": "sector=M-N. Professional, scientific and technical activities; administrative and support service activities<br>time=%{x}<br>Number of Jobs=%{y}<extra></extra>",
         "legendgroup": "M-N. Professional, scientific and technical activities; administrative and support service activities",
         "line": {
          "color": "#B6E880"
         },
         "marker": {
          "symbol": "circle"
         },
         "mode": "lines",
         "name": "M-N. Professional, scientific and technical activities; administrative and support service activities",
         "orientation": "v",
         "showlegend": true,
         "stackgroup": "1",
         "type": "scatter",
         "x": [
          "1991Q1",
          "1991Q2",
          "1991Q3",
          "1991Q4",
          "1992Q1",
          "1992Q2",
          "1992Q3",
          "1992Q4",
          "1993Q1",
          "1993Q2",
          "1993Q3",
          "1993Q4",
          "1994Q1",
          "1994Q2",
          "1994Q3",
          "1994Q4",
          "1995Q1",
          "1995Q2",
          "1995Q3",
          "1995Q4",
          "1996Q1",
          "1996Q2",
          "1996Q3",
          "1996Q4",
          "1997Q1",
          "1997Q2",
          "1997Q3",
          "1997Q4",
          "1998Q1",
          "1998Q2",
          "1998Q3",
          "1998Q4",
          "1999Q1",
          "1999Q2",
          "1999Q3",
          "1999Q4",
          "2000Q1",
          "2000Q2",
          "2000Q3",
          "2000Q4",
          "2001Q1",
          "2001Q2",
          "2001Q3",
          "2001Q4",
          "2002Q1",
          "2002Q2",
          "2002Q3",
          "2002Q4",
          "2003Q1",
          "2003Q2",
          "2003Q3",
          "2003Q4",
          "2004Q1",
          "2004Q2",
          "2004Q3",
          "2004Q4",
          "2005Q1",
          "2005Q2",
          "2005Q3",
          "2005Q4",
          "2006Q1",
          "2006Q2",
          "2006Q3",
          "2006Q4",
          "2007Q1",
          "2007Q2",
          "2007Q3",
          "2007Q4",
          "2008Q1",
          "2008Q2",
          "2008Q3",
          "2008Q4",
          "2009Q1",
          "2009Q2",
          "2009Q3",
          "2009Q4",
          "2010Q1",
          "2010Q2",
          "2010Q3",
          "2010Q4",
          "2011Q1",
          "2011Q2",
          "2011Q3",
          "2011Q4",
          "2012Q1",
          "2012Q2",
          "2012Q3",
          "2012Q4",
          "2013Q1",
          "2013Q2",
          "2013Q3",
          "2013Q4",
          "2014Q1",
          "2014Q2",
          "2014Q3",
          "2014Q4",
          "2015Q1",
          "2015Q2",
          "2015Q3",
          "2015Q4",
          "2016Q1",
          "2016Q2",
          "2016Q3",
          "2016Q4",
          "2017Q1",
          "2017Q2",
          "2017Q3",
          "2017Q4",
          "2018Q1",
          "2018Q2",
          "2018Q3",
          "2018Q4",
          "2019Q1",
          "2019Q2",
          "2019Q3",
          "2019Q4",
          "2020Q1",
          "2020Q2",
          "2020Q3",
          "2020Q4",
          "2021Q1",
          "2021Q2",
          "2021Q3",
          "2021Q4",
          "2022Q1",
          "2022Q2",
          "2022Q3",
          "2022Q4",
          "2023Q1",
          "2023Q2",
          "2023Q3",
          "2023Q4",
          "2024Q1",
          "2024Q2",
          "2024Q3",
          "2024Q4"
         ],
         "xaxis": "x",
         "y": [
          7800,
          8200,
          8300,
          8100,
          7700,
          8000,
          8100,
          8000,
          7900,
          8300,
          8500,
          8400,
          8600,
          9000,
          9200,
          9000,
          8700,
          9100,
          9200,
          9000,
          8700,
          9100,
          9300,
          9100,
          9000,
          9400,
          9700,
          9500,
          9400,
          10100,
          10500,
          10200,
          9700,
          10400,
          10800,
          11200,
          11000,
          11800,
          12100,
          12000,
          11700,
          12500,
          12900,
          12500,
          11900,
          12600,
          13000,
          12600,
          12400,
          13200,
          13500,
          13200,
          12500,
          13400,
          13800,
          13500,
          13500,
          14300,
          14800,
          14400,
          14000,
          15000,
          15600,
          15200,
          14900,
          16000,
          16500,
          15900,
          15700,
          16900,
          17100,
          15400,
          14100,
          14600,
          14800,
          14300,
          13400,
          14300,
          14900,
          14300,
          14000,
          15000,
          15600,
          14900,
          14600,
          15900,
          16500,
          15600,
          15300,
          16400,
          16900,
          16000,
          16000,
          17100,
          17700,
          17000,
          16600,
          18100,
          19000,
          18300,
          17900,
          20000,
          21600,
          20900,
          20300,
          22500,
          23600,
          22300,
          21500,
          23300,
          24200,
          23000,
          21600,
          23000,
          23900,
          22300,
          20100,
          19300,
          19600,
          18300,
          17500,
          19500,
          21800,
          21400,
          20600,
          22900,
          24300,
          23600,
          22600,
          24700,
          25900,
          24600,
          23800,
          25900,
          26900,
          25500
         ],
         "yaxis": "y"
        },
        {
         "fillpattern": {
          "shape": ""
         },
         "hovertemplate": "sector=O-Q. Public administration and defence; compulsory social security; education; human health and social work activities<br>time=%{x}<br>Number of Jobs=%{y}<extra></extra>",
         "legendgroup": "O-Q. Public administration and defence; compulsory social security; education; human health and social work activities",
         "line": {
          "color": "#FF97FF"
         },
         "marker": {
          "symbol": "circle"
         },
         "mode": "lines",
         "name": "O-Q. Public administration and defence; compulsory social security; education; human health and social work activities",
         "orientation": "v",
         "showlegend": true,
         "stackgroup": "1",
         "type": "scatter",
         "x": [
          "1991Q1",
          "1991Q2",
          "1991Q3",
          "1991Q4",
          "1992Q1",
          "1992Q2",
          "1992Q3",
          "1992Q4",
          "1993Q1",
          "1993Q2",
          "1993Q3",
          "1993Q4",
          "1994Q1",
          "1994Q2",
          "1994Q3",
          "1994Q4",
          "1995Q1",
          "1995Q2",
          "1995Q3",
          "1995Q4",
          "1996Q1",
          "1996Q2",
          "1996Q3",
          "1996Q4",
          "1997Q1",
          "1997Q2",
          "1997Q3",
          "1997Q4",
          "1998Q1",
          "1998Q2",
          "1998Q3",
          "1998Q4",
          "1999Q1",
          "1999Q2",
          "1999Q3",
          "1999Q4",
          "2000Q1",
          "2000Q2",
          "2000Q3",
          "2000Q4",
          "2001Q1",
          "2001Q2",
          "2001Q3",
          "2001Q4",
          "2002Q1",
          "2002Q2",
          "2002Q3",
          "2002Q4",
          "2003Q1",
          "2003Q2",
          "2003Q3",
          "2003Q4",
          "2004Q1",
          "2004Q2",
          "2004Q3",
          "2004Q4",
          "2005Q1",
          "2005Q2",
          "2005Q3",
          "2005Q4",
          "2006Q1",
          "2006Q2",
          "2006Q3",
          "2006Q4",
          "2007Q1",
          "2007Q2",
          "2007Q3",
          "2007Q4",
          "2008Q1",
          "2008Q2",
          "2008Q3",
          "2008Q4",
          "2009Q1",
          "2009Q2",
          "2009Q3",
          "2009Q4",
          "2010Q1",
          "2010Q2",
          "2010Q3",
          "2010Q4",
          "2011Q1",
          "2011Q2",
          "2011Q3",
          "2011Q4",
          "2012Q1",
          "2012Q2",
          "2012Q3",
          "2012Q4",
          "2013Q1",
          "2013Q2",
          "2013Q3",
          "2013Q4",
          "2014Q1",
          "2014Q2",
          "2014Q3",
          "2014Q4",
          "2015Q1",
          "2015Q2",
          "2015Q3",
          "2015Q4",
          "2016Q1",
          "2016Q2",
          "2016Q3",
          "2016Q4",
          "2017Q1",
          "2017Q2",
          "2017Q3",
          "2017Q4",
          "2018Q1",
          "2018Q2",
          "2018Q3",
          "2018Q4",
          "2019Q1",
          "2019Q2",
          "2019Q3",
          "2019Q4",
          "2020Q1",
          "2020Q2",
          "2020Q3",
          "2020Q4",
          "2021Q1",
          "2021Q2",
          "2021Q3",
          "2021Q4",
          "2022Q1",
          "2022Q2",
          "2022Q3",
          "2022Q4",
          "2023Q1",
          "2023Q2",
          "2023Q3",
          "2023Q4",
          "2024Q1",
          "2024Q2",
          "2024Q3",
          "2024Q4"
         ],
         "xaxis": "x",
         "y": [
          41600,
          45400,
          46400,
          42900,
          43200,
          47200,
          48300,
          44700,
          44000,
          48000,
          49200,
          45600,
          44800,
          48800,
          49900,
          46300,
          45600,
          49600,
          50700,
          47100,
          45800,
          49700,
          50800,
          47100,
          45600,
          49400,
          50500,
          46900,
          46000,
          50100,
          51600,
          47600,
          45700,
          50400,
          52000,
          48100,
          45900,
          50600,
          52100,
          48300,
          47800,
          52700,
          54500,
          50600,
          49000,
          54100,
          55900,
          51700,
          51000,
          56700,
          58600,
          53600,
          50600,
          55500,
          56800,
          52500,
          51300,
          56100,
          57400,
          53300,
          52000,
          57400,
          59200,
          55300,
          54100,
          58900,
          60500,
          56500,
          55700,
          61700,
          63600,
          59700,
          57100,
          62300,
          63500,
          57800,
          56000,
          61300,
          62800,
          57900,
          55600,
          61400,
          61800,
          57000,
          55700,
          60400,
          61900,
          57900,
          56600,
          61700,
          62100,
          58400,
          57900,
          62800,
          63600,
          59800,
          58500,
          62100,
          64300,
          62800,
          59100,
          62700,
          63000,
          61100,
          59700,
          63500,
          63600,
          62500,
          62300,
          66100,
          65800,
          64000,
          63300,
          67500,
          69700,
          66500,
          66400,
          71200,
          75400,
          68900,
          67100,
          73000,
          76300,
          71200,
          69600,
          75600,
          76400,
          72900,
          72000,
          77300,
          78300,
          74600,
          73400,
          78600,
          80500,
          78600
         ],
         "yaxis": "y"
        },
        {
         "fillpattern": {
          "shape": ""
         },
         "hovertemplate": "sector=R-U. Arts, entertainment and recreation; other service activities; activities of household and extra-territorial organizations and bodies<br>time=%{x}<br>Number of Jobs=%{y}<extra></extra>",
         "legendgroup": "R-U. Arts, entertainment and recreation; other service activities; activities of household and extra-territorial organizations and bodies",
         "line": {
          "color": "#FECB52"
         },
         "marker": {
          "symbol": "circle"
         },
         "mode": "lines",
         "name": "R-U. Arts, entertainment and recreation; other service activities; activities of household and extra-territorial organizations and bodies",
         "orientation": "v",
         "showlegend": true,
         "stackgroup": "1",
         "type": "scatter",
         "x": [
          "1991Q1",
          "1991Q2",
          "1991Q3",
          "1991Q4",
          "1992Q1",
          "1992Q2",
          "1992Q3",
          "1992Q4",
          "1993Q1",
          "1993Q2",
          "1993Q3",
          "1993Q4",
          "1994Q1",
          "1994Q2",
          "1994Q3",
          "1994Q4",
          "1995Q1",
          "1995Q2",
          "1995Q3",
          "1995Q4",
          "1996Q1",
          "1996Q2",
          "1996Q3",
          "1996Q4",
          "1997Q1",
          "1997Q2",
          "1997Q3",
          "1997Q4",
          "1998Q1",
          "1998Q2",
          "1998Q3",
          "1998Q4",
          "1999Q1",
          "1999Q2",
          "1999Q3",
          "1999Q4",
          "2000Q1",
          "2000Q2",
          "2000Q3",
          "2000Q4",
          "2001Q1",
          "2001Q2",
          "2001Q3",
          "2001Q4",
          "2002Q1",
          "2002Q2",
          "2002Q3",
          "2002Q4",
          "2003Q1",
          "2003Q2",
          "2003Q3",
          "2003Q4",
          "2004Q1",
          "2004Q2",
          "2004Q3",
          "2004Q4",
          "2005Q1",
          "2005Q2",
          "2005Q3",
          "2005Q4",
          "2006Q1",
          "2006Q2",
          "2006Q3",
          "2006Q4",
          "2007Q1",
          "2007Q2",
          "2007Q3",
          "2007Q4",
          "2008Q1",
          "2008Q2",
          "2008Q3",
          "2008Q4",
          "2009Q1",
          "2009Q2",
          "2009Q3",
          "2009Q4",
          "2010Q1",
          "2010Q2",
          "2010Q3",
          "2010Q4",
          "2011Q1",
          "2011Q2",
          "2011Q3",
          "2011Q4",
          "2012Q1",
          "2012Q2",
          "2012Q3",
          "2012Q4",
          "2013Q1",
          "2013Q2",
          "2013Q3",
          "2013Q4",
          "2014Q1",
          "2014Q2",
          "2014Q3",
          "2014Q4",
          "2015Q1",
          "2015Q2",
          "2015Q3",
          "2015Q4",
          "2016Q1",
          "2016Q2",
          "2016Q3",
          "2016Q4",
          "2017Q1",
          "2017Q2",
          "2017Q3",
          "2017Q4",
          "2018Q1",
          "2018Q2",
          "2018Q3",
          "2018Q4",
          "2019Q1",
          "2019Q2",
          "2019Q3",
          "2019Q4",
          "2020Q1",
          "2020Q2",
          "2020Q3",
          "2020Q4",
          "2021Q1",
          "2021Q2",
          "2021Q3",
          "2021Q4",
          "2022Q1",
          "2022Q2",
          "2022Q3",
          "2022Q4",
          "2023Q1",
          "2023Q2",
          "2023Q3",
          "2023Q4",
          "2024Q1",
          "2024Q2",
          "2024Q3",
          "2024Q4"
         ],
         "xaxis": "x",
         "y": [
          7000,
          7500,
          7300,
          7500,
          6800,
          7300,
          7100,
          7400,
          6700,
          7300,
          7200,
          7600,
          7600,
          8300,
          8300,
          8700,
          8300,
          9000,
          8900,
          9300,
          8900,
          9500,
          9400,
          9700,
          9200,
          9800,
          9600,
          9900,
          9000,
          9500,
          9400,
          9600,
          8900,
          9500,
          9400,
          9600,
          8800,
          9400,
          9300,
          9400,
          8500,
          9200,
          9100,
          9300,
          8700,
          9400,
          9400,
          9600,
          9000,
          9800,
          9800,
          10100,
          9500,
          10400,
          10300,
          10600,
          10200,
          11000,
          10900,
          11200,
          10400,
          11100,
          11000,
          11300,
          10700,
          11400,
          11100,
          11400,
          10900,
          11500,
          11200,
          11300,
          10800,
          11300,
          11200,
          11400,
          10800,
          11400,
          11400,
          11500,
          10900,
          11500,
          11300,
          11500,
          11000,
          11700,
          11300,
          11500,
          11100,
          11700,
          11500,
          11600,
          11400,
          11900,
          11700,
          12100,
          11600,
          12600,
          12000,
          13500,
          11600,
          12300,
          12100,
          12100,
          11800,
          12500,
          12300,
          12700,
          12400,
          13100,
          12800,
          13300,
          12900,
          13600,
          13200,
          13400,
          13700,
          12900,
          13300,
          12900,
          12400,
          13700,
          14200,
          14700,
          14400,
          15700,
          15100,
          15500,
          15100,
          16000,
          15400,
          15700,
          15300,
          16300,
          15700,
          16500
         ],
         "yaxis": "y"
        }
       ],
       "layout": {
        "legend": {
         "title": {
          "text": "sector"
         },
         "tracegroupgap": 0
        },
        "margin": {
         "t": 60
        },
        "showlegend": false,
        "template": {
         "data": {
          "bar": [
           {
            "error_x": {
             "color": "#2a3f5f"
            },
            "error_y": {
             "color": "#2a3f5f"
            },
            "marker": {
             "line": {
              "color": "#E5ECF6",
              "width": 0.5
             },
             "pattern": {
              "fillmode": "overlay",
              "size": 10,
              "solidity": 0.2
             }
            },
            "type": "bar"
           }
          ],
          "barpolar": [
           {
            "marker": {
             "line": {
              "color": "#E5ECF6",
              "width": 0.5
             },
             "pattern": {
              "fillmode": "overlay",
              "size": 10,
              "solidity": 0.2
             }
            },
            "type": "barpolar"
           }
          ],
          "carpet": [
           {
            "aaxis": {
             "endlinecolor": "#2a3f5f",
             "gridcolor": "white",
             "linecolor": "white",
             "minorgridcolor": "white",
             "startlinecolor": "#2a3f5f"
            },
            "baxis": {
             "endlinecolor": "#2a3f5f",
             "gridcolor": "white",
             "linecolor": "white",
             "minorgridcolor": "white",
             "startlinecolor": "#2a3f5f"
            },
            "type": "carpet"
           }
          ],
          "choropleth": [
           {
            "colorbar": {
             "outlinewidth": 0,
             "ticks": ""
            },
            "type": "choropleth"
           }
          ],
          "contour": [
           {
            "colorbar": {
             "outlinewidth": 0,
             "ticks": ""
            },
            "colorscale": [
             [
              0,
              "#0d0887"
             ],
             [
              0.1111111111111111,
              "#46039f"
             ],
             [
              0.2222222222222222,
              "#7201a8"
             ],
             [
              0.3333333333333333,
              "#9c179e"
             ],
             [
              0.4444444444444444,
              "#bd3786"
             ],
             [
              0.5555555555555556,
              "#d8576b"
             ],
             [
              0.6666666666666666,
              "#ed7953"
             ],
             [
              0.7777777777777778,
              "#fb9f3a"
             ],
             [
              0.8888888888888888,
              "#fdca26"
             ],
             [
              1,
              "#f0f921"
             ]
            ],
            "type": "contour"
           }
          ],
          "contourcarpet": [
           {
            "colorbar": {
             "outlinewidth": 0,
             "ticks": ""
            },
            "type": "contourcarpet"
           }
          ],
          "heatmap": [
           {
            "colorbar": {
             "outlinewidth": 0,
             "ticks": ""
            },
            "colorscale": [
             [
              0,
              "#0d0887"
             ],
             [
              0.1111111111111111,
              "#46039f"
             ],
             [
              0.2222222222222222,
              "#7201a8"
             ],
             [
              0.3333333333333333,
              "#9c179e"
             ],
             [
              0.4444444444444444,
              "#bd3786"
             ],
             [
              0.5555555555555556,
              "#d8576b"
             ],
             [
              0.6666666666666666,
              "#ed7953"
             ],
             [
              0.7777777777777778,
              "#fb9f3a"
             ],
             [
              0.8888888888888888,
              "#fdca26"
             ],
             [
              1,
              "#f0f921"
             ]
            ],
            "type": "heatmap"
           }
          ],
          "heatmapgl": [
           {
            "colorbar": {
             "outlinewidth": 0,
             "ticks": ""
            },
            "colorscale": [
             [
              0,
              "#0d0887"
             ],
             [
              0.1111111111111111,
              "#46039f"
             ],
             [
              0.2222222222222222,
              "#7201a8"
             ],
             [
              0.3333333333333333,
              "#9c179e"
             ],
             [
              0.4444444444444444,
              "#bd3786"
             ],
             [
              0.5555555555555556,
              "#d8576b"
             ],
             [
              0.6666666666666666,
              "#ed7953"
             ],
             [
              0.7777777777777778,
              "#fb9f3a"
             ],
             [
              0.8888888888888888,
              "#fdca26"
             ],
             [
              1,
              "#f0f921"
             ]
            ],
            "type": "heatmapgl"
           }
          ],
          "histogram": [
           {
            "marker": {
             "pattern": {
              "fillmode": "overlay",
              "size": 10,
              "solidity": 0.2
             }
            },
            "type": "histogram"
           }
          ],
          "histogram2d": [
           {
            "colorbar": {
             "outlinewidth": 0,
             "ticks": ""
            },
            "colorscale": [
             [
              0,
              "#0d0887"
             ],
             [
              0.1111111111111111,
              "#46039f"
             ],
             [
              0.2222222222222222,
              "#7201a8"
             ],
             [
              0.3333333333333333,
              "#9c179e"
             ],
             [
              0.4444444444444444,
              "#bd3786"
             ],
             [
              0.5555555555555556,
              "#d8576b"
             ],
             [
              0.6666666666666666,
              "#ed7953"
             ],
             [
              0.7777777777777778,
              "#fb9f3a"
             ],
             [
              0.8888888888888888,
              "#fdca26"
             ],
             [
              1,
              "#f0f921"
             ]
            ],
            "type": "histogram2d"
           }
          ],
          "histogram2dcontour": [
           {
            "colorbar": {
             "outlinewidth": 0,
             "ticks": ""
            },
            "colorscale": [
             [
              0,
              "#0d0887"
             ],
             [
              0.1111111111111111,
              "#46039f"
             ],
             [
              0.2222222222222222,
              "#7201a8"
             ],
             [
              0.3333333333333333,
              "#9c179e"
             ],
             [
              0.4444444444444444,
              "#bd3786"
             ],
             [
              0.5555555555555556,
              "#d8576b"
             ],
             [
              0.6666666666666666,
              "#ed7953"
             ],
             [
              0.7777777777777778,
              "#fb9f3a"
             ],
             [
              0.8888888888888888,
              "#fdca26"
             ],
             [
              1,
              "#f0f921"
             ]
            ],
            "type": "histogram2dcontour"
           }
          ],
          "mesh3d": [
           {
            "colorbar": {
             "outlinewidth": 0,
             "ticks": ""
            },
            "type": "mesh3d"
           }
          ],
          "parcoords": [
           {
            "line": {
             "colorbar": {
              "outlinewidth": 0,
              "ticks": ""
             }
            },
            "type": "parcoords"
           }
          ],
          "pie": [
           {
            "automargin": true,
            "type": "pie"
           }
          ],
          "scatter": [
           {
            "fillpattern": {
             "fillmode": "overlay",
             "size": 10,
             "solidity": 0.2
            },
            "type": "scatter"
           }
          ],
          "scatter3d": [
           {
            "line": {
             "colorbar": {
              "outlinewidth": 0,
              "ticks": ""
             }
            },
            "marker": {
             "colorbar": {
              "outlinewidth": 0,
              "ticks": ""
             }
            },
            "type": "scatter3d"
           }
          ],
          "scattercarpet": [
           {
            "marker": {
             "colorbar": {
              "outlinewidth": 0,
              "ticks": ""
             }
            },
            "type": "scattercarpet"
           }
          ],
          "scattergeo": [
           {
            "marker": {
             "colorbar": {
              "outlinewidth": 0,
              "ticks": ""
             }
            },
            "type": "scattergeo"
           }
          ],
          "scattergl": [
           {
            "marker": {
             "colorbar": {
              "outlinewidth": 0,
              "ticks": ""
             }
            },
            "type": "scattergl"
           }
          ],
          "scattermapbox": [
           {
            "marker": {
             "colorbar": {
              "outlinewidth": 0,
              "ticks": ""
             }
            },
            "type": "scattermapbox"
           }
          ],
          "scatterpolar": [
           {
            "marker": {
             "colorbar": {
              "outlinewidth": 0,
              "ticks": ""
             }
            },
            "type": "scatterpolar"
           }
          ],
          "scatterpolargl": [
           {
            "marker": {
             "colorbar": {
              "outlinewidth": 0,
              "ticks": ""
             }
            },
            "type": "scatterpolargl"
           }
          ],
          "scatterternary": [
           {
            "marker": {
             "colorbar": {
              "outlinewidth": 0,
              "ticks": ""
             }
            },
            "type": "scatterternary"
           }
          ],
          "surface": [
           {
            "colorbar": {
             "outlinewidth": 0,
             "ticks": ""
            },
            "colorscale": [
             [
              0,
              "#0d0887"
             ],
             [
              0.1111111111111111,
              "#46039f"
             ],
             [
              0.2222222222222222,
              "#7201a8"
             ],
             [
              0.3333333333333333,
              "#9c179e"
             ],
             [
              0.4444444444444444,
              "#bd3786"
             ],
             [
              0.5555555555555556,
              "#d8576b"
             ],
             [
              0.6666666666666666,
              "#ed7953"
             ],
             [
              0.7777777777777778,
              "#fb9f3a"
             ],
             [
              0.8888888888888888,
              "#fdca26"
             ],
             [
              1,
              "#f0f921"
             ]
            ],
            "type": "surface"
           }
          ],
          "table": [
           {
            "cells": {
             "fill": {
              "color": "#EBF0F8"
             },
             "line": {
              "color": "white"
             }
            },
            "header": {
             "fill": {
              "color": "#C8D4E3"
             },
             "line": {
              "color": "white"
             }
            },
            "type": "table"
           }
          ]
         },
         "layout": {
          "annotationdefaults": {
           "arrowcolor": "#2a3f5f",
           "arrowhead": 0,
           "arrowwidth": 1
          },
          "autotypenumbers": "strict",
          "coloraxis": {
           "colorbar": {
            "outlinewidth": 0,
            "ticks": ""
           }
          },
          "colorscale": {
           "diverging": [
            [
             0,
             "#8e0152"
            ],
            [
             0.1,
             "#c51b7d"
            ],
            [
             0.2,
             "#de77ae"
            ],
            [
             0.3,
             "#f1b6da"
            ],
            [
             0.4,
             "#fde0ef"
            ],
            [
             0.5,
             "#f7f7f7"
            ],
            [
             0.6,
             "#e6f5d0"
            ],
            [
             0.7,
             "#b8e186"
            ],
            [
             0.8,
             "#7fbc41"
            ],
            [
             0.9,
             "#4d9221"
            ],
            [
             1,
             "#276419"
            ]
           ],
           "sequential": [
            [
             0,
             "#0d0887"
            ],
            [
             0.1111111111111111,
             "#46039f"
            ],
            [
             0.2222222222222222,
             "#7201a8"
            ],
            [
             0.3333333333333333,
             "#9c179e"
            ],
            [
             0.4444444444444444,
             "#bd3786"
            ],
            [
             0.5555555555555556,
             "#d8576b"
            ],
            [
             0.6666666666666666,
             "#ed7953"
            ],
            [
             0.7777777777777778,
             "#fb9f3a"
            ],
            [
             0.8888888888888888,
             "#fdca26"
            ],
            [
             1,
             "#f0f921"
            ]
           ],
           "sequentialminus": [
            [
             0,
             "#0d0887"
            ],
            [
             0.1111111111111111,
             "#46039f"
            ],
            [
             0.2222222222222222,
             "#7201a8"
            ],
            [
             0.3333333333333333,
             "#9c179e"
            ],
            [
             0.4444444444444444,
             "#bd3786"
            ],
            [
             0.5555555555555556,
             "#d8576b"
            ],
            [
             0.6666666666666666,
             "#ed7953"
            ],
            [
             0.7777777777777778,
             "#fb9f3a"
            ],
            [
             0.8888888888888888,
             "#fdca26"
            ],
            [
             1,
             "#f0f921"
            ]
           ]
          },
          "colorway": [
           "#636efa",
           "#EF553B",
           "#00cc96",
           "#ab63fa",
           "#FFA15A",
           "#19d3f3",
           "#FF6692",
           "#B6E880",
           "#FF97FF",
           "#FECB52"
          ],
          "font": {
           "color": "#2a3f5f"
          },
          "geo": {
           "bgcolor": "white",
           "lakecolor": "white",
           "landcolor": "#E5ECF6",
           "showlakes": true,
           "showland": true,
           "subunitcolor": "white"
          },
          "hoverlabel": {
           "align": "left"
          },
          "hovermode": "closest",
          "mapbox": {
           "style": "light"
          },
          "paper_bgcolor": "white",
          "plot_bgcolor": "#E5ECF6",
          "polar": {
           "angularaxis": {
            "gridcolor": "white",
            "linecolor": "white",
            "ticks": ""
           },
           "bgcolor": "#E5ECF6",
           "radialaxis": {
            "gridcolor": "white",
            "linecolor": "white",
            "ticks": ""
           }
          },
          "scene": {
           "xaxis": {
            "backgroundcolor": "#E5ECF6",
            "gridcolor": "white",
            "gridwidth": 2,
            "linecolor": "white",
            "showbackground": true,
            "ticks": "",
            "zerolinecolor": "white"
           },
           "yaxis": {
            "backgroundcolor": "#E5ECF6",
            "gridcolor": "white",
            "gridwidth": 2,
            "linecolor": "white",
            "showbackground": true,
            "ticks": "",
            "zerolinecolor": "white"
           },
           "zaxis": {
            "backgroundcolor": "#E5ECF6",
            "gridcolor": "white",
            "gridwidth": 2,
            "linecolor": "white",
            "showbackground": true,
            "ticks": "",
            "zerolinecolor": "white"
           }
          },
          "shapedefaults": {
           "line": {
            "color": "#2a3f5f"
           }
          },
          "ternary": {
           "aaxis": {
            "gridcolor": "white",
            "linecolor": "white",
            "ticks": ""
           },
           "baxis": {
            "gridcolor": "white",
            "linecolor": "white",
            "ticks": ""
           },
           "bgcolor": "#E5ECF6",
           "caxis": {
            "gridcolor": "white",
            "linecolor": "white",
            "ticks": ""
           }
          },
          "title": {
           "x": 0.05
          },
          "xaxis": {
           "automargin": true,
           "gridcolor": "white",
           "linecolor": "white",
           "ticks": "",
           "title": {
            "standoff": 15
           },
           "zerolinecolor": "white",
           "zerolinewidth": 2
          },
          "yaxis": {
           "automargin": true,
           "gridcolor": "white",
           "linecolor": "white",
           "ticks": "",
           "title": {
            "standoff": 15
           },
           "zerolinecolor": "white",
           "zerolinewidth": 2
          }
         }
        },
        "xaxis": {
         "anchor": "y",
         "domain": [
          0,
          1
         ],
         "title": {
          "text": "time"
         }
        },
        "yaxis": {
         "anchor": "x",
         "domain": [
          0,
          1
         ],
         "title": {
          "text": "Number of Jobs"
         }
        }
       }
      }
     },
     "metadata": {},
     "output_type": "display_data"
    }
   ],
   "source": [
    "\n",
    "def charts_EmploymentBySector()->go.Figure:\n",
    "    return (\n",
    "        pd.read_sql_query('SELECT * FROM Employment', conn)\n",
    "        .pipe(lambda s: s.set_index(s.columns[:3].tolist()))\n",
    "        .loc[pd.IndexSlice['Jobs','Total employment'],]\n",
    "        .drop('Total - All activities')\n",
    "        .T\n",
    "        .reset_index(names = 'time')\n",
    "        .melt(id_vars=['time'], var_name ='sector', value_name='Number of Jobs')\n",
    "        .plot(x = 'time', y = 'Number of Jobs', color = 'sector',kind = 'area')\n",
    "        .update_layout(showlegend = False)\n",
    "    )   \n",
    "\n",
    "charts_EmploymentBySector()\n"
   ]
  },
  {
   "cell_type": "code",
   "execution_count": null,
   "metadata": {},
   "outputs": [],
   "source": []
  },
  {
   "cell_type": "code",
   "execution_count": null,
   "metadata": {},
   "outputs": [],
   "source": []
  }
 ],
 "metadata": {
  "kernelspec": {
   "display_name": "Python 3",
   "language": "python",
   "name": "python3"
  },
  "language_info": {
   "codemirror_mode": {
    "name": "ipython",
    "version": 3
   },
   "file_extension": ".py",
   "mimetype": "text/x-python",
   "name": "python",
   "nbconvert_exporter": "python",
   "pygments_lexer": "ipython3",
   "version": "3.12.0"
  }
 },
 "nbformat": 4,
 "nbformat_minor": 2
}
